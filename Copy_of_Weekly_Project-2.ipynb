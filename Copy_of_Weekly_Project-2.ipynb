{
  "cells": [
    {
      "cell_type": "markdown",
      "id": "5749a10a",
      "metadata": {
        "id": "5749a10a"
      },
      "source": [
        "# Weekly Project 2!"
      ]
    },
    {
      "cell_type": "markdown",
      "id": "92d44841",
      "metadata": {
        "id": "92d44841"
      },
      "source": [
        "## Introduction to Road Traffic Accidents (RTA) Dataset\n",
        "\n",
        "### Dataset Overview\n",
        "The RTA Dataset provides a detailed snapshot of road traffic accidents, capturing a range of data from accident conditions to casualty details. This dataset is essential for analyzing patterns and causes of accidents to improve road safety.\n",
        "\n",
        "### Data Characteristics\n",
        "- **Entries**: The dataset contains 12,316 entries.\n",
        "- **Features**: There are 32 features in the dataset, which include:\n",
        "  - `Time`: Time when the accident occurred.\n",
        "  - `Day_of_week`: Day of the week.\n",
        "  - `Age_band_of_driver`: Age group of the driver involved.\n",
        "  - `Sex_of_driver`: Gender of the driver.\n",
        "  - `Educational_level`: Educational level of the driver.\n",
        "  - `Type_of_vehicle`: Type of vehicle involved in the accident.\n",
        "  - `Cause_of_accident`: Reported cause of the accident.\n",
        "  - `Accident_severity`: Severity of the accident.\n",
        "- **Target Column**: `Accident_severity` is used as the target column for modeling. This feature classifies the severity of each accident.\n",
        "\n",
        "### Objective\n",
        "Students will use this dataset to apply various data visualization, modeling, and evaluation techniques learned in class. The primary goal is to build models that can accurately predict the severity of accidents and to identify the key factors that contribute to severe accidents."
      ]
    },
    {
      "cell_type": "code",
      "source": [],
      "metadata": {
        "id": "DSMihxHcpiCS"
      },
      "id": "DSMihxHcpiCS",
      "execution_count": 90,
      "outputs": []
    },
    {
      "cell_type": "code",
      "source": [],
      "metadata": {
        "id": "o4ZDNnKfpYb8"
      },
      "id": "o4ZDNnKfpYb8",
      "execution_count": 90,
      "outputs": []
    },
    {
      "cell_type": "markdown",
      "id": "177291c2",
      "metadata": {
        "id": "177291c2"
      },
      "source": [
        "## Import Libraries\n",
        "Import all the necessary libraries here. Include libraries for handling data (like pandas), visualization (like matplotlib and seaborn), and modeling (like scikit-learn)."
      ]
    },
    {
      "cell_type": "code",
      "execution_count": 91,
      "id": "2ad2bd0e",
      "metadata": {
        "id": "2ad2bd0e"
      },
      "outputs": [],
      "source": [
        "import sklearn\n",
        "import numpy as np\n",
        "import os\n",
        "import matplotlib as mpl\n",
        "import matplotlib.pyplot as plt\n",
        "import pandas as pd\n",
        "import numpy as np\n",
        "import seaborn as sns\n",
        "import warnings\n",
        "from sklearn.datasets import load_iris\n",
        "from sklearn.model_selection import train_test_split, GridSearchCV, cross_val_score\n",
        "from sklearn.pipeline import Pipeline\n",
        "from sklearn.tree import DecisionTreeClassifier\n",
        "from sklearn.preprocessing import StandardScaler\n",
        "from sklearn.ensemble import RandomForestClassifier\n",
        "from sklearn.metrics import confusion_matrix, accuracy_score, precision_score, recall_score, f1_score, roc_curve, auc\n",
        "from sklearn.svm import SVC\n",
        "from sklearn.neighbors import KNeighborsClassifier\n",
        "from sklearn.linear_model import LogisticRegression\n",
        "from sklearn.preprocessing import OneHotEncoder, LabelEncoder\n"
      ]
    },
    {
      "cell_type": "markdown",
      "id": "5f236af2",
      "metadata": {
        "id": "5f236af2"
      },
      "source": [
        "## Load Data\n",
        "Load the dataset from the provided CSV file into a DataFrame."
      ]
    },
    {
      "cell_type": "code",
      "execution_count": 92,
      "id": "2d3f76e8",
      "metadata": {
        "id": "2d3f76e8",
        "outputId": "60066f55-bbe3-4135-efa1-87a8b2909ddd",
        "colab": {
          "base_uri": "https://localhost:8080/",
          "height": 287
        }
      },
      "outputs": [
        {
          "output_type": "execute_result",
          "data": {
            "text/plain": [
              "       Time Day_of_week Age_band_of_driver Sex_of_driver   Educational_level  \\\n",
              "0  17:02:00      Monday              18-30          Male   Above high school   \n",
              "1  17:02:00      Monday              31-50          Male  Junior high school   \n",
              "2  17:02:00      Monday              18-30          Male  Junior high school   \n",
              "3   1:06:00      Sunday              18-30          Male  Junior high school   \n",
              "4   1:06:00      Sunday              18-30          Male  Junior high school   \n",
              "\n",
              "  Vehicle_driver_relation Driving_experience      Type_of_vehicle  \\\n",
              "0                Employee              1-2yr           Automobile   \n",
              "1                Employee         Above 10yr  Public (> 45 seats)   \n",
              "2                Employee              1-2yr      Lorry (41?100Q)   \n",
              "3                Employee             5-10yr  Public (> 45 seats)   \n",
              "4                Employee              2-5yr                  NaN   \n",
              "\n",
              "  Owner_of_vehicle Service_year_of_vehicle  ... Vehicle_movement  \\\n",
              "0            Owner              Above 10yr  ...   Going straight   \n",
              "1            Owner                 5-10yrs  ...   Going straight   \n",
              "2            Owner                     NaN  ...   Going straight   \n",
              "3     Governmental                     NaN  ...   Going straight   \n",
              "4            Owner                 5-10yrs  ...   Going straight   \n",
              "\n",
              "    Casualty_class Sex_of_casualty Age_band_of_casualty Casualty_severity  \\\n",
              "0               na              na                   na                na   \n",
              "1               na              na                   na                na   \n",
              "2  Driver or rider            Male                31-50                 3   \n",
              "3       Pedestrian          Female                18-30                 3   \n",
              "4               na              na                   na                na   \n",
              "\n",
              "  Work_of_casuality Fitness_of_casuality Pedestrian_movement  \\\n",
              "0               NaN                  NaN    Not a Pedestrian   \n",
              "1               NaN                  NaN    Not a Pedestrian   \n",
              "2            Driver                  NaN    Not a Pedestrian   \n",
              "3            Driver               Normal    Not a Pedestrian   \n",
              "4               NaN                  NaN    Not a Pedestrian   \n",
              "\n",
              "            Cause_of_accident Accident_severity  \n",
              "0             Moving Backward     Slight Injury  \n",
              "1                  Overtaking     Slight Injury  \n",
              "2   Changing lane to the left    Serious Injury  \n",
              "3  Changing lane to the right     Slight Injury  \n",
              "4                  Overtaking     Slight Injury  \n",
              "\n",
              "[5 rows x 32 columns]"
            ],
            "text/html": [
              "\n",
              "  <div id=\"df-61da9bfc-9aee-49f4-9d40-742b44bf27fd\" class=\"colab-df-container\">\n",
              "    <div>\n",
              "<style scoped>\n",
              "    .dataframe tbody tr th:only-of-type {\n",
              "        vertical-align: middle;\n",
              "    }\n",
              "\n",
              "    .dataframe tbody tr th {\n",
              "        vertical-align: top;\n",
              "    }\n",
              "\n",
              "    .dataframe thead th {\n",
              "        text-align: right;\n",
              "    }\n",
              "</style>\n",
              "<table border=\"1\" class=\"dataframe\">\n",
              "  <thead>\n",
              "    <tr style=\"text-align: right;\">\n",
              "      <th></th>\n",
              "      <th>Time</th>\n",
              "      <th>Day_of_week</th>\n",
              "      <th>Age_band_of_driver</th>\n",
              "      <th>Sex_of_driver</th>\n",
              "      <th>Educational_level</th>\n",
              "      <th>Vehicle_driver_relation</th>\n",
              "      <th>Driving_experience</th>\n",
              "      <th>Type_of_vehicle</th>\n",
              "      <th>Owner_of_vehicle</th>\n",
              "      <th>Service_year_of_vehicle</th>\n",
              "      <th>...</th>\n",
              "      <th>Vehicle_movement</th>\n",
              "      <th>Casualty_class</th>\n",
              "      <th>Sex_of_casualty</th>\n",
              "      <th>Age_band_of_casualty</th>\n",
              "      <th>Casualty_severity</th>\n",
              "      <th>Work_of_casuality</th>\n",
              "      <th>Fitness_of_casuality</th>\n",
              "      <th>Pedestrian_movement</th>\n",
              "      <th>Cause_of_accident</th>\n",
              "      <th>Accident_severity</th>\n",
              "    </tr>\n",
              "  </thead>\n",
              "  <tbody>\n",
              "    <tr>\n",
              "      <th>0</th>\n",
              "      <td>17:02:00</td>\n",
              "      <td>Monday</td>\n",
              "      <td>18-30</td>\n",
              "      <td>Male</td>\n",
              "      <td>Above high school</td>\n",
              "      <td>Employee</td>\n",
              "      <td>1-2yr</td>\n",
              "      <td>Automobile</td>\n",
              "      <td>Owner</td>\n",
              "      <td>Above 10yr</td>\n",
              "      <td>...</td>\n",
              "      <td>Going straight</td>\n",
              "      <td>na</td>\n",
              "      <td>na</td>\n",
              "      <td>na</td>\n",
              "      <td>na</td>\n",
              "      <td>NaN</td>\n",
              "      <td>NaN</td>\n",
              "      <td>Not a Pedestrian</td>\n",
              "      <td>Moving Backward</td>\n",
              "      <td>Slight Injury</td>\n",
              "    </tr>\n",
              "    <tr>\n",
              "      <th>1</th>\n",
              "      <td>17:02:00</td>\n",
              "      <td>Monday</td>\n",
              "      <td>31-50</td>\n",
              "      <td>Male</td>\n",
              "      <td>Junior high school</td>\n",
              "      <td>Employee</td>\n",
              "      <td>Above 10yr</td>\n",
              "      <td>Public (&gt; 45 seats)</td>\n",
              "      <td>Owner</td>\n",
              "      <td>5-10yrs</td>\n",
              "      <td>...</td>\n",
              "      <td>Going straight</td>\n",
              "      <td>na</td>\n",
              "      <td>na</td>\n",
              "      <td>na</td>\n",
              "      <td>na</td>\n",
              "      <td>NaN</td>\n",
              "      <td>NaN</td>\n",
              "      <td>Not a Pedestrian</td>\n",
              "      <td>Overtaking</td>\n",
              "      <td>Slight Injury</td>\n",
              "    </tr>\n",
              "    <tr>\n",
              "      <th>2</th>\n",
              "      <td>17:02:00</td>\n",
              "      <td>Monday</td>\n",
              "      <td>18-30</td>\n",
              "      <td>Male</td>\n",
              "      <td>Junior high school</td>\n",
              "      <td>Employee</td>\n",
              "      <td>1-2yr</td>\n",
              "      <td>Lorry (41?100Q)</td>\n",
              "      <td>Owner</td>\n",
              "      <td>NaN</td>\n",
              "      <td>...</td>\n",
              "      <td>Going straight</td>\n",
              "      <td>Driver or rider</td>\n",
              "      <td>Male</td>\n",
              "      <td>31-50</td>\n",
              "      <td>3</td>\n",
              "      <td>Driver</td>\n",
              "      <td>NaN</td>\n",
              "      <td>Not a Pedestrian</td>\n",
              "      <td>Changing lane to the left</td>\n",
              "      <td>Serious Injury</td>\n",
              "    </tr>\n",
              "    <tr>\n",
              "      <th>3</th>\n",
              "      <td>1:06:00</td>\n",
              "      <td>Sunday</td>\n",
              "      <td>18-30</td>\n",
              "      <td>Male</td>\n",
              "      <td>Junior high school</td>\n",
              "      <td>Employee</td>\n",
              "      <td>5-10yr</td>\n",
              "      <td>Public (&gt; 45 seats)</td>\n",
              "      <td>Governmental</td>\n",
              "      <td>NaN</td>\n",
              "      <td>...</td>\n",
              "      <td>Going straight</td>\n",
              "      <td>Pedestrian</td>\n",
              "      <td>Female</td>\n",
              "      <td>18-30</td>\n",
              "      <td>3</td>\n",
              "      <td>Driver</td>\n",
              "      <td>Normal</td>\n",
              "      <td>Not a Pedestrian</td>\n",
              "      <td>Changing lane to the right</td>\n",
              "      <td>Slight Injury</td>\n",
              "    </tr>\n",
              "    <tr>\n",
              "      <th>4</th>\n",
              "      <td>1:06:00</td>\n",
              "      <td>Sunday</td>\n",
              "      <td>18-30</td>\n",
              "      <td>Male</td>\n",
              "      <td>Junior high school</td>\n",
              "      <td>Employee</td>\n",
              "      <td>2-5yr</td>\n",
              "      <td>NaN</td>\n",
              "      <td>Owner</td>\n",
              "      <td>5-10yrs</td>\n",
              "      <td>...</td>\n",
              "      <td>Going straight</td>\n",
              "      <td>na</td>\n",
              "      <td>na</td>\n",
              "      <td>na</td>\n",
              "      <td>na</td>\n",
              "      <td>NaN</td>\n",
              "      <td>NaN</td>\n",
              "      <td>Not a Pedestrian</td>\n",
              "      <td>Overtaking</td>\n",
              "      <td>Slight Injury</td>\n",
              "    </tr>\n",
              "  </tbody>\n",
              "</table>\n",
              "<p>5 rows × 32 columns</p>\n",
              "</div>\n",
              "    <div class=\"colab-df-buttons\">\n",
              "\n",
              "  <div class=\"colab-df-container\">\n",
              "    <button class=\"colab-df-convert\" onclick=\"convertToInteractive('df-61da9bfc-9aee-49f4-9d40-742b44bf27fd')\"\n",
              "            title=\"Convert this dataframe to an interactive table.\"\n",
              "            style=\"display:none;\">\n",
              "\n",
              "  <svg xmlns=\"http://www.w3.org/2000/svg\" height=\"24px\" viewBox=\"0 -960 960 960\">\n",
              "    <path d=\"M120-120v-720h720v720H120Zm60-500h600v-160H180v160Zm220 220h160v-160H400v160Zm0 220h160v-160H400v160ZM180-400h160v-160H180v160Zm440 0h160v-160H620v160ZM180-180h160v-160H180v160Zm440 0h160v-160H620v160Z\"/>\n",
              "  </svg>\n",
              "    </button>\n",
              "\n",
              "  <style>\n",
              "    .colab-df-container {\n",
              "      display:flex;\n",
              "      gap: 12px;\n",
              "    }\n",
              "\n",
              "    .colab-df-convert {\n",
              "      background-color: #E8F0FE;\n",
              "      border: none;\n",
              "      border-radius: 50%;\n",
              "      cursor: pointer;\n",
              "      display: none;\n",
              "      fill: #1967D2;\n",
              "      height: 32px;\n",
              "      padding: 0 0 0 0;\n",
              "      width: 32px;\n",
              "    }\n",
              "\n",
              "    .colab-df-convert:hover {\n",
              "      background-color: #E2EBFA;\n",
              "      box-shadow: 0px 1px 2px rgba(60, 64, 67, 0.3), 0px 1px 3px 1px rgba(60, 64, 67, 0.15);\n",
              "      fill: #174EA6;\n",
              "    }\n",
              "\n",
              "    .colab-df-buttons div {\n",
              "      margin-bottom: 4px;\n",
              "    }\n",
              "\n",
              "    [theme=dark] .colab-df-convert {\n",
              "      background-color: #3B4455;\n",
              "      fill: #D2E3FC;\n",
              "    }\n",
              "\n",
              "    [theme=dark] .colab-df-convert:hover {\n",
              "      background-color: #434B5C;\n",
              "      box-shadow: 0px 1px 3px 1px rgba(0, 0, 0, 0.15);\n",
              "      filter: drop-shadow(0px 1px 2px rgba(0, 0, 0, 0.3));\n",
              "      fill: #FFFFFF;\n",
              "    }\n",
              "  </style>\n",
              "\n",
              "    <script>\n",
              "      const buttonEl =\n",
              "        document.querySelector('#df-61da9bfc-9aee-49f4-9d40-742b44bf27fd button.colab-df-convert');\n",
              "      buttonEl.style.display =\n",
              "        google.colab.kernel.accessAllowed ? 'block' : 'none';\n",
              "\n",
              "      async function convertToInteractive(key) {\n",
              "        const element = document.querySelector('#df-61da9bfc-9aee-49f4-9d40-742b44bf27fd');\n",
              "        const dataTable =\n",
              "          await google.colab.kernel.invokeFunction('convertToInteractive',\n",
              "                                                    [key], {});\n",
              "        if (!dataTable) return;\n",
              "\n",
              "        const docLinkHtml = 'Like what you see? Visit the ' +\n",
              "          '<a target=\"_blank\" href=https://colab.research.google.com/notebooks/data_table.ipynb>data table notebook</a>'\n",
              "          + ' to learn more about interactive tables.';\n",
              "        element.innerHTML = '';\n",
              "        dataTable['output_type'] = 'display_data';\n",
              "        await google.colab.output.renderOutput(dataTable, element);\n",
              "        const docLink = document.createElement('div');\n",
              "        docLink.innerHTML = docLinkHtml;\n",
              "        element.appendChild(docLink);\n",
              "      }\n",
              "    </script>\n",
              "  </div>\n",
              "\n",
              "\n",
              "<div id=\"df-c5aa505e-fffe-4baf-ab6b-780970c7f464\">\n",
              "  <button class=\"colab-df-quickchart\" onclick=\"quickchart('df-c5aa505e-fffe-4baf-ab6b-780970c7f464')\"\n",
              "            title=\"Suggest charts\"\n",
              "            style=\"display:none;\">\n",
              "\n",
              "<svg xmlns=\"http://www.w3.org/2000/svg\" height=\"24px\"viewBox=\"0 0 24 24\"\n",
              "     width=\"24px\">\n",
              "    <g>\n",
              "        <path d=\"M19 3H5c-1.1 0-2 .9-2 2v14c0 1.1.9 2 2 2h14c1.1 0 2-.9 2-2V5c0-1.1-.9-2-2-2zM9 17H7v-7h2v7zm4 0h-2V7h2v10zm4 0h-2v-4h2v4z\"/>\n",
              "    </g>\n",
              "</svg>\n",
              "  </button>\n",
              "\n",
              "<style>\n",
              "  .colab-df-quickchart {\n",
              "      --bg-color: #E8F0FE;\n",
              "      --fill-color: #1967D2;\n",
              "      --hover-bg-color: #E2EBFA;\n",
              "      --hover-fill-color: #174EA6;\n",
              "      --disabled-fill-color: #AAA;\n",
              "      --disabled-bg-color: #DDD;\n",
              "  }\n",
              "\n",
              "  [theme=dark] .colab-df-quickchart {\n",
              "      --bg-color: #3B4455;\n",
              "      --fill-color: #D2E3FC;\n",
              "      --hover-bg-color: #434B5C;\n",
              "      --hover-fill-color: #FFFFFF;\n",
              "      --disabled-bg-color: #3B4455;\n",
              "      --disabled-fill-color: #666;\n",
              "  }\n",
              "\n",
              "  .colab-df-quickchart {\n",
              "    background-color: var(--bg-color);\n",
              "    border: none;\n",
              "    border-radius: 50%;\n",
              "    cursor: pointer;\n",
              "    display: none;\n",
              "    fill: var(--fill-color);\n",
              "    height: 32px;\n",
              "    padding: 0;\n",
              "    width: 32px;\n",
              "  }\n",
              "\n",
              "  .colab-df-quickchart:hover {\n",
              "    background-color: var(--hover-bg-color);\n",
              "    box-shadow: 0 1px 2px rgba(60, 64, 67, 0.3), 0 1px 3px 1px rgba(60, 64, 67, 0.15);\n",
              "    fill: var(--button-hover-fill-color);\n",
              "  }\n",
              "\n",
              "  .colab-df-quickchart-complete:disabled,\n",
              "  .colab-df-quickchart-complete:disabled:hover {\n",
              "    background-color: var(--disabled-bg-color);\n",
              "    fill: var(--disabled-fill-color);\n",
              "    box-shadow: none;\n",
              "  }\n",
              "\n",
              "  .colab-df-spinner {\n",
              "    border: 2px solid var(--fill-color);\n",
              "    border-color: transparent;\n",
              "    border-bottom-color: var(--fill-color);\n",
              "    animation:\n",
              "      spin 1s steps(1) infinite;\n",
              "  }\n",
              "\n",
              "  @keyframes spin {\n",
              "    0% {\n",
              "      border-color: transparent;\n",
              "      border-bottom-color: var(--fill-color);\n",
              "      border-left-color: var(--fill-color);\n",
              "    }\n",
              "    20% {\n",
              "      border-color: transparent;\n",
              "      border-left-color: var(--fill-color);\n",
              "      border-top-color: var(--fill-color);\n",
              "    }\n",
              "    30% {\n",
              "      border-color: transparent;\n",
              "      border-left-color: var(--fill-color);\n",
              "      border-top-color: var(--fill-color);\n",
              "      border-right-color: var(--fill-color);\n",
              "    }\n",
              "    40% {\n",
              "      border-color: transparent;\n",
              "      border-right-color: var(--fill-color);\n",
              "      border-top-color: var(--fill-color);\n",
              "    }\n",
              "    60% {\n",
              "      border-color: transparent;\n",
              "      border-right-color: var(--fill-color);\n",
              "    }\n",
              "    80% {\n",
              "      border-color: transparent;\n",
              "      border-right-color: var(--fill-color);\n",
              "      border-bottom-color: var(--fill-color);\n",
              "    }\n",
              "    90% {\n",
              "      border-color: transparent;\n",
              "      border-bottom-color: var(--fill-color);\n",
              "    }\n",
              "  }\n",
              "</style>\n",
              "\n",
              "  <script>\n",
              "    async function quickchart(key) {\n",
              "      const quickchartButtonEl =\n",
              "        document.querySelector('#' + key + ' button');\n",
              "      quickchartButtonEl.disabled = true;  // To prevent multiple clicks.\n",
              "      quickchartButtonEl.classList.add('colab-df-spinner');\n",
              "      try {\n",
              "        const charts = await google.colab.kernel.invokeFunction(\n",
              "            'suggestCharts', [key], {});\n",
              "      } catch (error) {\n",
              "        console.error('Error during call to suggestCharts:', error);\n",
              "      }\n",
              "      quickchartButtonEl.classList.remove('colab-df-spinner');\n",
              "      quickchartButtonEl.classList.add('colab-df-quickchart-complete');\n",
              "    }\n",
              "    (() => {\n",
              "      let quickchartButtonEl =\n",
              "        document.querySelector('#df-c5aa505e-fffe-4baf-ab6b-780970c7f464 button');\n",
              "      quickchartButtonEl.style.display =\n",
              "        google.colab.kernel.accessAllowed ? 'block' : 'none';\n",
              "    })();\n",
              "  </script>\n",
              "</div>\n",
              "\n",
              "    </div>\n",
              "  </div>\n"
            ],
            "application/vnd.google.colaboratory.intrinsic+json": {
              "type": "dataframe",
              "variable_name": "df"
            }
          },
          "metadata": {},
          "execution_count": 92
        }
      ],
      "source": [
        "df = pd.read_csv(\"/content/RTA_Dataset.csv\")\n",
        "df.head()"
      ]
    },
    {
      "cell_type": "markdown",
      "id": "b9215c2f",
      "metadata": {
        "id": "b9215c2f"
      },
      "source": [
        "## Exploratory Data Analysis (EDA)\n",
        "Perform EDA to understand the data better. This involves several steps to summarize the main characteristics, uncover patterns, and establish relationships:\n",
        "* Find the dataset information and observe the datatypes.\n",
        "* Check the shape of the data to understand its structure.\n",
        "* View the the data with various functions to get an initial sense of the data.\n",
        "* Perform summary statistics on the dataset to grasp central tendencies and variability.\n",
        "* Check for duplicated data.\n",
        "* Check for null values.\n",
        "\n",
        "And apply more if needed!\n"
      ]
    },
    {
      "cell_type": "code",
      "execution_count": 93,
      "id": "b206f836",
      "metadata": {
        "id": "b206f836",
        "outputId": "78c4fe91-5041-4a1d-e85d-e2eecc01d2d4",
        "colab": {
          "base_uri": "https://localhost:8080/"
        }
      },
      "outputs": [
        {
          "output_type": "stream",
          "name": "stdout",
          "text": [
            "<class 'pandas.core.frame.DataFrame'>\n",
            "RangeIndex: 12316 entries, 0 to 12315\n",
            "Data columns (total 32 columns):\n",
            " #   Column                       Non-Null Count  Dtype \n",
            "---  ------                       --------------  ----- \n",
            " 0   Time                         12316 non-null  object\n",
            " 1   Day_of_week                  12316 non-null  object\n",
            " 2   Age_band_of_driver           12316 non-null  object\n",
            " 3   Sex_of_driver                12316 non-null  object\n",
            " 4   Educational_level            11575 non-null  object\n",
            " 5   Vehicle_driver_relation      11737 non-null  object\n",
            " 6   Driving_experience           11487 non-null  object\n",
            " 7   Type_of_vehicle              11366 non-null  object\n",
            " 8   Owner_of_vehicle             11834 non-null  object\n",
            " 9   Service_year_of_vehicle      8388 non-null   object\n",
            " 10  Defect_of_vehicle            7889 non-null   object\n",
            " 11  Area_accident_occured        12077 non-null  object\n",
            " 12  Lanes_or_Medians             11931 non-null  object\n",
            " 13  Road_allignment              12174 non-null  object\n",
            " 14  Types_of_Junction            11429 non-null  object\n",
            " 15  Road_surface_type            12144 non-null  object\n",
            " 16  Road_surface_conditions      12316 non-null  object\n",
            " 17  Light_conditions             12316 non-null  object\n",
            " 18  Weather_conditions           12316 non-null  object\n",
            " 19  Type_of_collision            12161 non-null  object\n",
            " 20  Number_of_vehicles_involved  12316 non-null  int64 \n",
            " 21  Number_of_casualties         12316 non-null  int64 \n",
            " 22  Vehicle_movement             12008 non-null  object\n",
            " 23  Casualty_class               12316 non-null  object\n",
            " 24  Sex_of_casualty              12316 non-null  object\n",
            " 25  Age_band_of_casualty         12316 non-null  object\n",
            " 26  Casualty_severity            12316 non-null  object\n",
            " 27  Work_of_casuality            9118 non-null   object\n",
            " 28  Fitness_of_casuality         9681 non-null   object\n",
            " 29  Pedestrian_movement          12316 non-null  object\n",
            " 30  Cause_of_accident            12316 non-null  object\n",
            " 31  Accident_severity            12316 non-null  object\n",
            "dtypes: int64(2), object(30)\n",
            "memory usage: 3.0+ MB\n"
          ]
        }
      ],
      "source": [
        "df.info()"
      ]
    },
    {
      "cell_type": "code",
      "source": [
        "df.tail()"
      ],
      "metadata": {
        "id": "mFkETa0mahAJ",
        "outputId": "7339219a-ce68-462b-f04e-91488fc0a318",
        "colab": {
          "base_uri": "https://localhost:8080/",
          "height": 304
        }
      },
      "id": "mFkETa0mahAJ",
      "execution_count": 94,
      "outputs": [
        {
          "output_type": "execute_result",
          "data": {
            "text/plain": [
              "           Time Day_of_week Age_band_of_driver Sex_of_driver  \\\n",
              "12311  16:15:00   Wednesday              31-50          Male   \n",
              "12312  18:00:00      Sunday            Unknown          Male   \n",
              "12313  13:55:00      Sunday            Over 51          Male   \n",
              "12314  13:55:00      Sunday              18-30        Female   \n",
              "12315  13:55:00      Sunday              18-30          Male   \n",
              "\n",
              "        Educational_level Vehicle_driver_relation Driving_experience  \\\n",
              "12311                 NaN                Employee              2-5yr   \n",
              "12312   Elementary school                Employee             5-10yr   \n",
              "12313  Junior high school                Employee             5-10yr   \n",
              "12314  Junior high school                Employee         Above 10yr   \n",
              "12315  Junior high school                Employee             5-10yr   \n",
              "\n",
              "       Type_of_vehicle Owner_of_vehicle Service_year_of_vehicle  ...  \\\n",
              "12311   Lorry (11?40Q)            Owner                     NaN  ...   \n",
              "12312       Automobile            Owner                     NaN  ...   \n",
              "12313            Bajaj            Owner                  2-5yrs  ...   \n",
              "12314  Lorry (41?100Q)            Owner                  2-5yrs  ...   \n",
              "12315            Other            Owner                  2-5yrs  ...   \n",
              "\n",
              "      Vehicle_movement   Casualty_class Sex_of_casualty Age_band_of_casualty  \\\n",
              "12311   Going straight               na              na                   na   \n",
              "12312            Other               na              na                   na   \n",
              "12313            Other  Driver or rider            Male                31-50   \n",
              "12314            Other               na              na                   na   \n",
              "12315         Stopping       Pedestrian          Female                    5   \n",
              "\n",
              "      Casualty_severity Work_of_casuality Fitness_of_casuality  \\\n",
              "12311                na            Driver               Normal   \n",
              "12312                na            Driver               Normal   \n",
              "12313                 3            Driver               Normal   \n",
              "12314                na            Driver               Normal   \n",
              "12315                 3            Driver               Normal   \n",
              "\n",
              "                                     Pedestrian_movement  \\\n",
              "12311                                   Not a Pedestrian   \n",
              "12312                                   Not a Pedestrian   \n",
              "12313                                   Not a Pedestrian   \n",
              "12314                                   Not a Pedestrian   \n",
              "12315  Crossing from nearside - masked by parked or s...   \n",
              "\n",
              "                          Cause_of_accident Accident_severity  \n",
              "12311                         No distancing     Slight Injury  \n",
              "12312                         No distancing     Slight Injury  \n",
              "12313            Changing lane to the right    Serious Injury  \n",
              "12314  Driving under the influence of drugs     Slight Injury  \n",
              "12315            Changing lane to the right     Slight Injury  \n",
              "\n",
              "[5 rows x 32 columns]"
            ],
            "text/html": [
              "\n",
              "  <div id=\"df-dd93c91d-e5c7-426c-8a03-8e2fcb250272\" class=\"colab-df-container\">\n",
              "    <div>\n",
              "<style scoped>\n",
              "    .dataframe tbody tr th:only-of-type {\n",
              "        vertical-align: middle;\n",
              "    }\n",
              "\n",
              "    .dataframe tbody tr th {\n",
              "        vertical-align: top;\n",
              "    }\n",
              "\n",
              "    .dataframe thead th {\n",
              "        text-align: right;\n",
              "    }\n",
              "</style>\n",
              "<table border=\"1\" class=\"dataframe\">\n",
              "  <thead>\n",
              "    <tr style=\"text-align: right;\">\n",
              "      <th></th>\n",
              "      <th>Time</th>\n",
              "      <th>Day_of_week</th>\n",
              "      <th>Age_band_of_driver</th>\n",
              "      <th>Sex_of_driver</th>\n",
              "      <th>Educational_level</th>\n",
              "      <th>Vehicle_driver_relation</th>\n",
              "      <th>Driving_experience</th>\n",
              "      <th>Type_of_vehicle</th>\n",
              "      <th>Owner_of_vehicle</th>\n",
              "      <th>Service_year_of_vehicle</th>\n",
              "      <th>...</th>\n",
              "      <th>Vehicle_movement</th>\n",
              "      <th>Casualty_class</th>\n",
              "      <th>Sex_of_casualty</th>\n",
              "      <th>Age_band_of_casualty</th>\n",
              "      <th>Casualty_severity</th>\n",
              "      <th>Work_of_casuality</th>\n",
              "      <th>Fitness_of_casuality</th>\n",
              "      <th>Pedestrian_movement</th>\n",
              "      <th>Cause_of_accident</th>\n",
              "      <th>Accident_severity</th>\n",
              "    </tr>\n",
              "  </thead>\n",
              "  <tbody>\n",
              "    <tr>\n",
              "      <th>12311</th>\n",
              "      <td>16:15:00</td>\n",
              "      <td>Wednesday</td>\n",
              "      <td>31-50</td>\n",
              "      <td>Male</td>\n",
              "      <td>NaN</td>\n",
              "      <td>Employee</td>\n",
              "      <td>2-5yr</td>\n",
              "      <td>Lorry (11?40Q)</td>\n",
              "      <td>Owner</td>\n",
              "      <td>NaN</td>\n",
              "      <td>...</td>\n",
              "      <td>Going straight</td>\n",
              "      <td>na</td>\n",
              "      <td>na</td>\n",
              "      <td>na</td>\n",
              "      <td>na</td>\n",
              "      <td>Driver</td>\n",
              "      <td>Normal</td>\n",
              "      <td>Not a Pedestrian</td>\n",
              "      <td>No distancing</td>\n",
              "      <td>Slight Injury</td>\n",
              "    </tr>\n",
              "    <tr>\n",
              "      <th>12312</th>\n",
              "      <td>18:00:00</td>\n",
              "      <td>Sunday</td>\n",
              "      <td>Unknown</td>\n",
              "      <td>Male</td>\n",
              "      <td>Elementary school</td>\n",
              "      <td>Employee</td>\n",
              "      <td>5-10yr</td>\n",
              "      <td>Automobile</td>\n",
              "      <td>Owner</td>\n",
              "      <td>NaN</td>\n",
              "      <td>...</td>\n",
              "      <td>Other</td>\n",
              "      <td>na</td>\n",
              "      <td>na</td>\n",
              "      <td>na</td>\n",
              "      <td>na</td>\n",
              "      <td>Driver</td>\n",
              "      <td>Normal</td>\n",
              "      <td>Not a Pedestrian</td>\n",
              "      <td>No distancing</td>\n",
              "      <td>Slight Injury</td>\n",
              "    </tr>\n",
              "    <tr>\n",
              "      <th>12313</th>\n",
              "      <td>13:55:00</td>\n",
              "      <td>Sunday</td>\n",
              "      <td>Over 51</td>\n",
              "      <td>Male</td>\n",
              "      <td>Junior high school</td>\n",
              "      <td>Employee</td>\n",
              "      <td>5-10yr</td>\n",
              "      <td>Bajaj</td>\n",
              "      <td>Owner</td>\n",
              "      <td>2-5yrs</td>\n",
              "      <td>...</td>\n",
              "      <td>Other</td>\n",
              "      <td>Driver or rider</td>\n",
              "      <td>Male</td>\n",
              "      <td>31-50</td>\n",
              "      <td>3</td>\n",
              "      <td>Driver</td>\n",
              "      <td>Normal</td>\n",
              "      <td>Not a Pedestrian</td>\n",
              "      <td>Changing lane to the right</td>\n",
              "      <td>Serious Injury</td>\n",
              "    </tr>\n",
              "    <tr>\n",
              "      <th>12314</th>\n",
              "      <td>13:55:00</td>\n",
              "      <td>Sunday</td>\n",
              "      <td>18-30</td>\n",
              "      <td>Female</td>\n",
              "      <td>Junior high school</td>\n",
              "      <td>Employee</td>\n",
              "      <td>Above 10yr</td>\n",
              "      <td>Lorry (41?100Q)</td>\n",
              "      <td>Owner</td>\n",
              "      <td>2-5yrs</td>\n",
              "      <td>...</td>\n",
              "      <td>Other</td>\n",
              "      <td>na</td>\n",
              "      <td>na</td>\n",
              "      <td>na</td>\n",
              "      <td>na</td>\n",
              "      <td>Driver</td>\n",
              "      <td>Normal</td>\n",
              "      <td>Not a Pedestrian</td>\n",
              "      <td>Driving under the influence of drugs</td>\n",
              "      <td>Slight Injury</td>\n",
              "    </tr>\n",
              "    <tr>\n",
              "      <th>12315</th>\n",
              "      <td>13:55:00</td>\n",
              "      <td>Sunday</td>\n",
              "      <td>18-30</td>\n",
              "      <td>Male</td>\n",
              "      <td>Junior high school</td>\n",
              "      <td>Employee</td>\n",
              "      <td>5-10yr</td>\n",
              "      <td>Other</td>\n",
              "      <td>Owner</td>\n",
              "      <td>2-5yrs</td>\n",
              "      <td>...</td>\n",
              "      <td>Stopping</td>\n",
              "      <td>Pedestrian</td>\n",
              "      <td>Female</td>\n",
              "      <td>5</td>\n",
              "      <td>3</td>\n",
              "      <td>Driver</td>\n",
              "      <td>Normal</td>\n",
              "      <td>Crossing from nearside - masked by parked or s...</td>\n",
              "      <td>Changing lane to the right</td>\n",
              "      <td>Slight Injury</td>\n",
              "    </tr>\n",
              "  </tbody>\n",
              "</table>\n",
              "<p>5 rows × 32 columns</p>\n",
              "</div>\n",
              "    <div class=\"colab-df-buttons\">\n",
              "\n",
              "  <div class=\"colab-df-container\">\n",
              "    <button class=\"colab-df-convert\" onclick=\"convertToInteractive('df-dd93c91d-e5c7-426c-8a03-8e2fcb250272')\"\n",
              "            title=\"Convert this dataframe to an interactive table.\"\n",
              "            style=\"display:none;\">\n",
              "\n",
              "  <svg xmlns=\"http://www.w3.org/2000/svg\" height=\"24px\" viewBox=\"0 -960 960 960\">\n",
              "    <path d=\"M120-120v-720h720v720H120Zm60-500h600v-160H180v160Zm220 220h160v-160H400v160Zm0 220h160v-160H400v160ZM180-400h160v-160H180v160Zm440 0h160v-160H620v160ZM180-180h160v-160H180v160Zm440 0h160v-160H620v160Z\"/>\n",
              "  </svg>\n",
              "    </button>\n",
              "\n",
              "  <style>\n",
              "    .colab-df-container {\n",
              "      display:flex;\n",
              "      gap: 12px;\n",
              "    }\n",
              "\n",
              "    .colab-df-convert {\n",
              "      background-color: #E8F0FE;\n",
              "      border: none;\n",
              "      border-radius: 50%;\n",
              "      cursor: pointer;\n",
              "      display: none;\n",
              "      fill: #1967D2;\n",
              "      height: 32px;\n",
              "      padding: 0 0 0 0;\n",
              "      width: 32px;\n",
              "    }\n",
              "\n",
              "    .colab-df-convert:hover {\n",
              "      background-color: #E2EBFA;\n",
              "      box-shadow: 0px 1px 2px rgba(60, 64, 67, 0.3), 0px 1px 3px 1px rgba(60, 64, 67, 0.15);\n",
              "      fill: #174EA6;\n",
              "    }\n",
              "\n",
              "    .colab-df-buttons div {\n",
              "      margin-bottom: 4px;\n",
              "    }\n",
              "\n",
              "    [theme=dark] .colab-df-convert {\n",
              "      background-color: #3B4455;\n",
              "      fill: #D2E3FC;\n",
              "    }\n",
              "\n",
              "    [theme=dark] .colab-df-convert:hover {\n",
              "      background-color: #434B5C;\n",
              "      box-shadow: 0px 1px 3px 1px rgba(0, 0, 0, 0.15);\n",
              "      filter: drop-shadow(0px 1px 2px rgba(0, 0, 0, 0.3));\n",
              "      fill: #FFFFFF;\n",
              "    }\n",
              "  </style>\n",
              "\n",
              "    <script>\n",
              "      const buttonEl =\n",
              "        document.querySelector('#df-dd93c91d-e5c7-426c-8a03-8e2fcb250272 button.colab-df-convert');\n",
              "      buttonEl.style.display =\n",
              "        google.colab.kernel.accessAllowed ? 'block' : 'none';\n",
              "\n",
              "      async function convertToInteractive(key) {\n",
              "        const element = document.querySelector('#df-dd93c91d-e5c7-426c-8a03-8e2fcb250272');\n",
              "        const dataTable =\n",
              "          await google.colab.kernel.invokeFunction('convertToInteractive',\n",
              "                                                    [key], {});\n",
              "        if (!dataTable) return;\n",
              "\n",
              "        const docLinkHtml = 'Like what you see? Visit the ' +\n",
              "          '<a target=\"_blank\" href=https://colab.research.google.com/notebooks/data_table.ipynb>data table notebook</a>'\n",
              "          + ' to learn more about interactive tables.';\n",
              "        element.innerHTML = '';\n",
              "        dataTable['output_type'] = 'display_data';\n",
              "        await google.colab.output.renderOutput(dataTable, element);\n",
              "        const docLink = document.createElement('div');\n",
              "        docLink.innerHTML = docLinkHtml;\n",
              "        element.appendChild(docLink);\n",
              "      }\n",
              "    </script>\n",
              "  </div>\n",
              "\n",
              "\n",
              "<div id=\"df-47b0e620-aee8-4e50-8c28-f2019cf31637\">\n",
              "  <button class=\"colab-df-quickchart\" onclick=\"quickchart('df-47b0e620-aee8-4e50-8c28-f2019cf31637')\"\n",
              "            title=\"Suggest charts\"\n",
              "            style=\"display:none;\">\n",
              "\n",
              "<svg xmlns=\"http://www.w3.org/2000/svg\" height=\"24px\"viewBox=\"0 0 24 24\"\n",
              "     width=\"24px\">\n",
              "    <g>\n",
              "        <path d=\"M19 3H5c-1.1 0-2 .9-2 2v14c0 1.1.9 2 2 2h14c1.1 0 2-.9 2-2V5c0-1.1-.9-2-2-2zM9 17H7v-7h2v7zm4 0h-2V7h2v10zm4 0h-2v-4h2v4z\"/>\n",
              "    </g>\n",
              "</svg>\n",
              "  </button>\n",
              "\n",
              "<style>\n",
              "  .colab-df-quickchart {\n",
              "      --bg-color: #E8F0FE;\n",
              "      --fill-color: #1967D2;\n",
              "      --hover-bg-color: #E2EBFA;\n",
              "      --hover-fill-color: #174EA6;\n",
              "      --disabled-fill-color: #AAA;\n",
              "      --disabled-bg-color: #DDD;\n",
              "  }\n",
              "\n",
              "  [theme=dark] .colab-df-quickchart {\n",
              "      --bg-color: #3B4455;\n",
              "      --fill-color: #D2E3FC;\n",
              "      --hover-bg-color: #434B5C;\n",
              "      --hover-fill-color: #FFFFFF;\n",
              "      --disabled-bg-color: #3B4455;\n",
              "      --disabled-fill-color: #666;\n",
              "  }\n",
              "\n",
              "  .colab-df-quickchart {\n",
              "    background-color: var(--bg-color);\n",
              "    border: none;\n",
              "    border-radius: 50%;\n",
              "    cursor: pointer;\n",
              "    display: none;\n",
              "    fill: var(--fill-color);\n",
              "    height: 32px;\n",
              "    padding: 0;\n",
              "    width: 32px;\n",
              "  }\n",
              "\n",
              "  .colab-df-quickchart:hover {\n",
              "    background-color: var(--hover-bg-color);\n",
              "    box-shadow: 0 1px 2px rgba(60, 64, 67, 0.3), 0 1px 3px 1px rgba(60, 64, 67, 0.15);\n",
              "    fill: var(--button-hover-fill-color);\n",
              "  }\n",
              "\n",
              "  .colab-df-quickchart-complete:disabled,\n",
              "  .colab-df-quickchart-complete:disabled:hover {\n",
              "    background-color: var(--disabled-bg-color);\n",
              "    fill: var(--disabled-fill-color);\n",
              "    box-shadow: none;\n",
              "  }\n",
              "\n",
              "  .colab-df-spinner {\n",
              "    border: 2px solid var(--fill-color);\n",
              "    border-color: transparent;\n",
              "    border-bottom-color: var(--fill-color);\n",
              "    animation:\n",
              "      spin 1s steps(1) infinite;\n",
              "  }\n",
              "\n",
              "  @keyframes spin {\n",
              "    0% {\n",
              "      border-color: transparent;\n",
              "      border-bottom-color: var(--fill-color);\n",
              "      border-left-color: var(--fill-color);\n",
              "    }\n",
              "    20% {\n",
              "      border-color: transparent;\n",
              "      border-left-color: var(--fill-color);\n",
              "      border-top-color: var(--fill-color);\n",
              "    }\n",
              "    30% {\n",
              "      border-color: transparent;\n",
              "      border-left-color: var(--fill-color);\n",
              "      border-top-color: var(--fill-color);\n",
              "      border-right-color: var(--fill-color);\n",
              "    }\n",
              "    40% {\n",
              "      border-color: transparent;\n",
              "      border-right-color: var(--fill-color);\n",
              "      border-top-color: var(--fill-color);\n",
              "    }\n",
              "    60% {\n",
              "      border-color: transparent;\n",
              "      border-right-color: var(--fill-color);\n",
              "    }\n",
              "    80% {\n",
              "      border-color: transparent;\n",
              "      border-right-color: var(--fill-color);\n",
              "      border-bottom-color: var(--fill-color);\n",
              "    }\n",
              "    90% {\n",
              "      border-color: transparent;\n",
              "      border-bottom-color: var(--fill-color);\n",
              "    }\n",
              "  }\n",
              "</style>\n",
              "\n",
              "  <script>\n",
              "    async function quickchart(key) {\n",
              "      const quickchartButtonEl =\n",
              "        document.querySelector('#' + key + ' button');\n",
              "      quickchartButtonEl.disabled = true;  // To prevent multiple clicks.\n",
              "      quickchartButtonEl.classList.add('colab-df-spinner');\n",
              "      try {\n",
              "        const charts = await google.colab.kernel.invokeFunction(\n",
              "            'suggestCharts', [key], {});\n",
              "      } catch (error) {\n",
              "        console.error('Error during call to suggestCharts:', error);\n",
              "      }\n",
              "      quickchartButtonEl.classList.remove('colab-df-spinner');\n",
              "      quickchartButtonEl.classList.add('colab-df-quickchart-complete');\n",
              "    }\n",
              "    (() => {\n",
              "      let quickchartButtonEl =\n",
              "        document.querySelector('#df-47b0e620-aee8-4e50-8c28-f2019cf31637 button');\n",
              "      quickchartButtonEl.style.display =\n",
              "        google.colab.kernel.accessAllowed ? 'block' : 'none';\n",
              "    })();\n",
              "  </script>\n",
              "</div>\n",
              "\n",
              "    </div>\n",
              "  </div>\n"
            ],
            "application/vnd.google.colaboratory.intrinsic+json": {
              "type": "dataframe"
            }
          },
          "metadata": {},
          "execution_count": 94
        }
      ]
    },
    {
      "cell_type": "code",
      "source": [
        "df.shape"
      ],
      "metadata": {
        "id": "0piOwKnSV5XF",
        "outputId": "9023e48f-5774-4374-ae04-f793f0a8abda",
        "colab": {
          "base_uri": "https://localhost:8080/"
        }
      },
      "id": "0piOwKnSV5XF",
      "execution_count": 95,
      "outputs": [
        {
          "output_type": "execute_result",
          "data": {
            "text/plain": [
              "(12316, 32)"
            ]
          },
          "metadata": {},
          "execution_count": 95
        }
      ]
    },
    {
      "cell_type": "code",
      "source": [
        "df[\"Educational_level\"].unique()"
      ],
      "metadata": {
        "id": "Fx0wdctHWCs9",
        "outputId": "fbcefdea-1d4f-4513-babc-884c943127fa",
        "colab": {
          "base_uri": "https://localhost:8080/"
        }
      },
      "id": "Fx0wdctHWCs9",
      "execution_count": 96,
      "outputs": [
        {
          "output_type": "execute_result",
          "data": {
            "text/plain": [
              "array(['Above high school', 'Junior high school', nan,\n",
              "       'Elementary school', 'High school', 'Unknown', 'Illiterate',\n",
              "       'Writing & reading'], dtype=object)"
            ]
          },
          "metadata": {},
          "execution_count": 96
        }
      ]
    },
    {
      "cell_type": "code",
      "source": [
        "df.isnull().sum()"
      ],
      "metadata": {
        "id": "zOuk5h6DXe1J",
        "outputId": "94d164e2-59d3-442c-ab07-045b7286379f",
        "colab": {
          "base_uri": "https://localhost:8080/",
          "height": 1000
        }
      },
      "id": "zOuk5h6DXe1J",
      "execution_count": 97,
      "outputs": [
        {
          "output_type": "execute_result",
          "data": {
            "text/plain": [
              "Time                              0\n",
              "Day_of_week                       0\n",
              "Age_band_of_driver                0\n",
              "Sex_of_driver                     0\n",
              "Educational_level               741\n",
              "Vehicle_driver_relation         579\n",
              "Driving_experience              829\n",
              "Type_of_vehicle                 950\n",
              "Owner_of_vehicle                482\n",
              "Service_year_of_vehicle        3928\n",
              "Defect_of_vehicle              4427\n",
              "Area_accident_occured           239\n",
              "Lanes_or_Medians                385\n",
              "Road_allignment                 142\n",
              "Types_of_Junction               887\n",
              "Road_surface_type               172\n",
              "Road_surface_conditions           0\n",
              "Light_conditions                  0\n",
              "Weather_conditions                0\n",
              "Type_of_collision               155\n",
              "Number_of_vehicles_involved       0\n",
              "Number_of_casualties              0\n",
              "Vehicle_movement                308\n",
              "Casualty_class                    0\n",
              "Sex_of_casualty                   0\n",
              "Age_band_of_casualty              0\n",
              "Casualty_severity                 0\n",
              "Work_of_casuality              3198\n",
              "Fitness_of_casuality           2635\n",
              "Pedestrian_movement               0\n",
              "Cause_of_accident                 0\n",
              "Accident_severity                 0\n",
              "dtype: int64"
            ],
            "text/html": [
              "<table border=\"1\" class=\"dataframe\">\n",
              "  <thead>\n",
              "    <tr style=\"text-align: right;\">\n",
              "      <th></th>\n",
              "      <th>0</th>\n",
              "    </tr>\n",
              "  </thead>\n",
              "  <tbody>\n",
              "    <tr>\n",
              "      <th>Time</th>\n",
              "      <td>0</td>\n",
              "    </tr>\n",
              "    <tr>\n",
              "      <th>Day_of_week</th>\n",
              "      <td>0</td>\n",
              "    </tr>\n",
              "    <tr>\n",
              "      <th>Age_band_of_driver</th>\n",
              "      <td>0</td>\n",
              "    </tr>\n",
              "    <tr>\n",
              "      <th>Sex_of_driver</th>\n",
              "      <td>0</td>\n",
              "    </tr>\n",
              "    <tr>\n",
              "      <th>Educational_level</th>\n",
              "      <td>741</td>\n",
              "    </tr>\n",
              "    <tr>\n",
              "      <th>Vehicle_driver_relation</th>\n",
              "      <td>579</td>\n",
              "    </tr>\n",
              "    <tr>\n",
              "      <th>Driving_experience</th>\n",
              "      <td>829</td>\n",
              "    </tr>\n",
              "    <tr>\n",
              "      <th>Type_of_vehicle</th>\n",
              "      <td>950</td>\n",
              "    </tr>\n",
              "    <tr>\n",
              "      <th>Owner_of_vehicle</th>\n",
              "      <td>482</td>\n",
              "    </tr>\n",
              "    <tr>\n",
              "      <th>Service_year_of_vehicle</th>\n",
              "      <td>3928</td>\n",
              "    </tr>\n",
              "    <tr>\n",
              "      <th>Defect_of_vehicle</th>\n",
              "      <td>4427</td>\n",
              "    </tr>\n",
              "    <tr>\n",
              "      <th>Area_accident_occured</th>\n",
              "      <td>239</td>\n",
              "    </tr>\n",
              "    <tr>\n",
              "      <th>Lanes_or_Medians</th>\n",
              "      <td>385</td>\n",
              "    </tr>\n",
              "    <tr>\n",
              "      <th>Road_allignment</th>\n",
              "      <td>142</td>\n",
              "    </tr>\n",
              "    <tr>\n",
              "      <th>Types_of_Junction</th>\n",
              "      <td>887</td>\n",
              "    </tr>\n",
              "    <tr>\n",
              "      <th>Road_surface_type</th>\n",
              "      <td>172</td>\n",
              "    </tr>\n",
              "    <tr>\n",
              "      <th>Road_surface_conditions</th>\n",
              "      <td>0</td>\n",
              "    </tr>\n",
              "    <tr>\n",
              "      <th>Light_conditions</th>\n",
              "      <td>0</td>\n",
              "    </tr>\n",
              "    <tr>\n",
              "      <th>Weather_conditions</th>\n",
              "      <td>0</td>\n",
              "    </tr>\n",
              "    <tr>\n",
              "      <th>Type_of_collision</th>\n",
              "      <td>155</td>\n",
              "    </tr>\n",
              "    <tr>\n",
              "      <th>Number_of_vehicles_involved</th>\n",
              "      <td>0</td>\n",
              "    </tr>\n",
              "    <tr>\n",
              "      <th>Number_of_casualties</th>\n",
              "      <td>0</td>\n",
              "    </tr>\n",
              "    <tr>\n",
              "      <th>Vehicle_movement</th>\n",
              "      <td>308</td>\n",
              "    </tr>\n",
              "    <tr>\n",
              "      <th>Casualty_class</th>\n",
              "      <td>0</td>\n",
              "    </tr>\n",
              "    <tr>\n",
              "      <th>Sex_of_casualty</th>\n",
              "      <td>0</td>\n",
              "    </tr>\n",
              "    <tr>\n",
              "      <th>Age_band_of_casualty</th>\n",
              "      <td>0</td>\n",
              "    </tr>\n",
              "    <tr>\n",
              "      <th>Casualty_severity</th>\n",
              "      <td>0</td>\n",
              "    </tr>\n",
              "    <tr>\n",
              "      <th>Work_of_casuality</th>\n",
              "      <td>3198</td>\n",
              "    </tr>\n",
              "    <tr>\n",
              "      <th>Fitness_of_casuality</th>\n",
              "      <td>2635</td>\n",
              "    </tr>\n",
              "    <tr>\n",
              "      <th>Pedestrian_movement</th>\n",
              "      <td>0</td>\n",
              "    </tr>\n",
              "    <tr>\n",
              "      <th>Cause_of_accident</th>\n",
              "      <td>0</td>\n",
              "    </tr>\n",
              "    <tr>\n",
              "      <th>Accident_severity</th>\n",
              "      <td>0</td>\n",
              "    </tr>\n",
              "  </tbody>\n",
              "</table><br><label><b>dtype:</b> int64</label>"
            ]
          },
          "metadata": {},
          "execution_count": 97
        }
      ]
    },
    {
      "cell_type": "code",
      "source": [
        "df.drop(index=df[df.Educational_level.isnull()].index,inplace=True)"
      ],
      "metadata": {
        "id": "DaI8hTezZPxw"
      },
      "id": "DaI8hTezZPxw",
      "execution_count": 98,
      "outputs": []
    },
    {
      "cell_type": "code",
      "source": [
        "df.isnull().sum()"
      ],
      "metadata": {
        "id": "y4mmkL8_ZRZT",
        "outputId": "1d017cdb-3836-4350-d0fa-6441f817a94d",
        "colab": {
          "base_uri": "https://localhost:8080/",
          "height": 1000
        }
      },
      "id": "y4mmkL8_ZRZT",
      "execution_count": 99,
      "outputs": [
        {
          "output_type": "execute_result",
          "data": {
            "text/plain": [
              "Time                              0\n",
              "Day_of_week                       0\n",
              "Age_band_of_driver                0\n",
              "Sex_of_driver                     0\n",
              "Educational_level                 0\n",
              "Vehicle_driver_relation          98\n",
              "Driving_experience              275\n",
              "Type_of_vehicle                 850\n",
              "Owner_of_vehicle                407\n",
              "Service_year_of_vehicle        3613\n",
              "Defect_of_vehicle              4117\n",
              "Area_accident_occured           211\n",
              "Lanes_or_Medians                347\n",
              "Road_allignment                 135\n",
              "Types_of_Junction               841\n",
              "Road_surface_type               161\n",
              "Road_surface_conditions           0\n",
              "Light_conditions                  0\n",
              "Weather_conditions                0\n",
              "Type_of_collision               146\n",
              "Number_of_vehicles_involved       0\n",
              "Number_of_casualties              0\n",
              "Vehicle_movement                291\n",
              "Casualty_class                    0\n",
              "Sex_of_casualty                   0\n",
              "Age_band_of_casualty              0\n",
              "Casualty_severity                 0\n",
              "Work_of_casuality              3007\n",
              "Fitness_of_casuality           2482\n",
              "Pedestrian_movement               0\n",
              "Cause_of_accident                 0\n",
              "Accident_severity                 0\n",
              "dtype: int64"
            ],
            "text/html": [
              "<table border=\"1\" class=\"dataframe\">\n",
              "  <thead>\n",
              "    <tr style=\"text-align: right;\">\n",
              "      <th></th>\n",
              "      <th>0</th>\n",
              "    </tr>\n",
              "  </thead>\n",
              "  <tbody>\n",
              "    <tr>\n",
              "      <th>Time</th>\n",
              "      <td>0</td>\n",
              "    </tr>\n",
              "    <tr>\n",
              "      <th>Day_of_week</th>\n",
              "      <td>0</td>\n",
              "    </tr>\n",
              "    <tr>\n",
              "      <th>Age_band_of_driver</th>\n",
              "      <td>0</td>\n",
              "    </tr>\n",
              "    <tr>\n",
              "      <th>Sex_of_driver</th>\n",
              "      <td>0</td>\n",
              "    </tr>\n",
              "    <tr>\n",
              "      <th>Educational_level</th>\n",
              "      <td>0</td>\n",
              "    </tr>\n",
              "    <tr>\n",
              "      <th>Vehicle_driver_relation</th>\n",
              "      <td>98</td>\n",
              "    </tr>\n",
              "    <tr>\n",
              "      <th>Driving_experience</th>\n",
              "      <td>275</td>\n",
              "    </tr>\n",
              "    <tr>\n",
              "      <th>Type_of_vehicle</th>\n",
              "      <td>850</td>\n",
              "    </tr>\n",
              "    <tr>\n",
              "      <th>Owner_of_vehicle</th>\n",
              "      <td>407</td>\n",
              "    </tr>\n",
              "    <tr>\n",
              "      <th>Service_year_of_vehicle</th>\n",
              "      <td>3613</td>\n",
              "    </tr>\n",
              "    <tr>\n",
              "      <th>Defect_of_vehicle</th>\n",
              "      <td>4117</td>\n",
              "    </tr>\n",
              "    <tr>\n",
              "      <th>Area_accident_occured</th>\n",
              "      <td>211</td>\n",
              "    </tr>\n",
              "    <tr>\n",
              "      <th>Lanes_or_Medians</th>\n",
              "      <td>347</td>\n",
              "    </tr>\n",
              "    <tr>\n",
              "      <th>Road_allignment</th>\n",
              "      <td>135</td>\n",
              "    </tr>\n",
              "    <tr>\n",
              "      <th>Types_of_Junction</th>\n",
              "      <td>841</td>\n",
              "    </tr>\n",
              "    <tr>\n",
              "      <th>Road_surface_type</th>\n",
              "      <td>161</td>\n",
              "    </tr>\n",
              "    <tr>\n",
              "      <th>Road_surface_conditions</th>\n",
              "      <td>0</td>\n",
              "    </tr>\n",
              "    <tr>\n",
              "      <th>Light_conditions</th>\n",
              "      <td>0</td>\n",
              "    </tr>\n",
              "    <tr>\n",
              "      <th>Weather_conditions</th>\n",
              "      <td>0</td>\n",
              "    </tr>\n",
              "    <tr>\n",
              "      <th>Type_of_collision</th>\n",
              "      <td>146</td>\n",
              "    </tr>\n",
              "    <tr>\n",
              "      <th>Number_of_vehicles_involved</th>\n",
              "      <td>0</td>\n",
              "    </tr>\n",
              "    <tr>\n",
              "      <th>Number_of_casualties</th>\n",
              "      <td>0</td>\n",
              "    </tr>\n",
              "    <tr>\n",
              "      <th>Vehicle_movement</th>\n",
              "      <td>291</td>\n",
              "    </tr>\n",
              "    <tr>\n",
              "      <th>Casualty_class</th>\n",
              "      <td>0</td>\n",
              "    </tr>\n",
              "    <tr>\n",
              "      <th>Sex_of_casualty</th>\n",
              "      <td>0</td>\n",
              "    </tr>\n",
              "    <tr>\n",
              "      <th>Age_band_of_casualty</th>\n",
              "      <td>0</td>\n",
              "    </tr>\n",
              "    <tr>\n",
              "      <th>Casualty_severity</th>\n",
              "      <td>0</td>\n",
              "    </tr>\n",
              "    <tr>\n",
              "      <th>Work_of_casuality</th>\n",
              "      <td>3007</td>\n",
              "    </tr>\n",
              "    <tr>\n",
              "      <th>Fitness_of_casuality</th>\n",
              "      <td>2482</td>\n",
              "    </tr>\n",
              "    <tr>\n",
              "      <th>Pedestrian_movement</th>\n",
              "      <td>0</td>\n",
              "    </tr>\n",
              "    <tr>\n",
              "      <th>Cause_of_accident</th>\n",
              "      <td>0</td>\n",
              "    </tr>\n",
              "    <tr>\n",
              "      <th>Accident_severity</th>\n",
              "      <td>0</td>\n",
              "    </tr>\n",
              "  </tbody>\n",
              "</table><br><label><b>dtype:</b> int64</label>"
            ]
          },
          "metadata": {},
          "execution_count": 99
        }
      ]
    },
    {
      "cell_type": "code",
      "source": [
        "df.drop(index=df[df.Vehicle_driver_relation.isnull()].index,inplace=True)"
      ],
      "metadata": {
        "id": "ct5trCk5ZWTz"
      },
      "id": "ct5trCk5ZWTz",
      "execution_count": 100,
      "outputs": []
    },
    {
      "cell_type": "code",
      "source": [
        "df.isnull().sum()"
      ],
      "metadata": {
        "id": "muXbN6QMZbSv",
        "outputId": "0885a3fb-571d-4017-c8f1-704b31ea08b1",
        "colab": {
          "base_uri": "https://localhost:8080/",
          "height": 1000
        }
      },
      "id": "muXbN6QMZbSv",
      "execution_count": 101,
      "outputs": [
        {
          "output_type": "execute_result",
          "data": {
            "text/plain": [
              "Time                              0\n",
              "Day_of_week                       0\n",
              "Age_band_of_driver                0\n",
              "Sex_of_driver                     0\n",
              "Educational_level                 0\n",
              "Vehicle_driver_relation           0\n",
              "Driving_experience              253\n",
              "Type_of_vehicle                 840\n",
              "Owner_of_vehicle                402\n",
              "Service_year_of_vehicle        3578\n",
              "Defect_of_vehicle              4082\n",
              "Area_accident_occured           208\n",
              "Lanes_or_Medians                343\n",
              "Road_allignment                 133\n",
              "Types_of_Junction               838\n",
              "Road_surface_type               161\n",
              "Road_surface_conditions           0\n",
              "Light_conditions                  0\n",
              "Weather_conditions                0\n",
              "Type_of_collision               144\n",
              "Number_of_vehicles_involved       0\n",
              "Number_of_casualties              0\n",
              "Vehicle_movement                288\n",
              "Casualty_class                    0\n",
              "Sex_of_casualty                   0\n",
              "Age_band_of_casualty              0\n",
              "Casualty_severity                 0\n",
              "Work_of_casuality              2982\n",
              "Fitness_of_casuality           2461\n",
              "Pedestrian_movement               0\n",
              "Cause_of_accident                 0\n",
              "Accident_severity                 0\n",
              "dtype: int64"
            ],
            "text/html": [
              "<table border=\"1\" class=\"dataframe\">\n",
              "  <thead>\n",
              "    <tr style=\"text-align: right;\">\n",
              "      <th></th>\n",
              "      <th>0</th>\n",
              "    </tr>\n",
              "  </thead>\n",
              "  <tbody>\n",
              "    <tr>\n",
              "      <th>Time</th>\n",
              "      <td>0</td>\n",
              "    </tr>\n",
              "    <tr>\n",
              "      <th>Day_of_week</th>\n",
              "      <td>0</td>\n",
              "    </tr>\n",
              "    <tr>\n",
              "      <th>Age_band_of_driver</th>\n",
              "      <td>0</td>\n",
              "    </tr>\n",
              "    <tr>\n",
              "      <th>Sex_of_driver</th>\n",
              "      <td>0</td>\n",
              "    </tr>\n",
              "    <tr>\n",
              "      <th>Educational_level</th>\n",
              "      <td>0</td>\n",
              "    </tr>\n",
              "    <tr>\n",
              "      <th>Vehicle_driver_relation</th>\n",
              "      <td>0</td>\n",
              "    </tr>\n",
              "    <tr>\n",
              "      <th>Driving_experience</th>\n",
              "      <td>253</td>\n",
              "    </tr>\n",
              "    <tr>\n",
              "      <th>Type_of_vehicle</th>\n",
              "      <td>840</td>\n",
              "    </tr>\n",
              "    <tr>\n",
              "      <th>Owner_of_vehicle</th>\n",
              "      <td>402</td>\n",
              "    </tr>\n",
              "    <tr>\n",
              "      <th>Service_year_of_vehicle</th>\n",
              "      <td>3578</td>\n",
              "    </tr>\n",
              "    <tr>\n",
              "      <th>Defect_of_vehicle</th>\n",
              "      <td>4082</td>\n",
              "    </tr>\n",
              "    <tr>\n",
              "      <th>Area_accident_occured</th>\n",
              "      <td>208</td>\n",
              "    </tr>\n",
              "    <tr>\n",
              "      <th>Lanes_or_Medians</th>\n",
              "      <td>343</td>\n",
              "    </tr>\n",
              "    <tr>\n",
              "      <th>Road_allignment</th>\n",
              "      <td>133</td>\n",
              "    </tr>\n",
              "    <tr>\n",
              "      <th>Types_of_Junction</th>\n",
              "      <td>838</td>\n",
              "    </tr>\n",
              "    <tr>\n",
              "      <th>Road_surface_type</th>\n",
              "      <td>161</td>\n",
              "    </tr>\n",
              "    <tr>\n",
              "      <th>Road_surface_conditions</th>\n",
              "      <td>0</td>\n",
              "    </tr>\n",
              "    <tr>\n",
              "      <th>Light_conditions</th>\n",
              "      <td>0</td>\n",
              "    </tr>\n",
              "    <tr>\n",
              "      <th>Weather_conditions</th>\n",
              "      <td>0</td>\n",
              "    </tr>\n",
              "    <tr>\n",
              "      <th>Type_of_collision</th>\n",
              "      <td>144</td>\n",
              "    </tr>\n",
              "    <tr>\n",
              "      <th>Number_of_vehicles_involved</th>\n",
              "      <td>0</td>\n",
              "    </tr>\n",
              "    <tr>\n",
              "      <th>Number_of_casualties</th>\n",
              "      <td>0</td>\n",
              "    </tr>\n",
              "    <tr>\n",
              "      <th>Vehicle_movement</th>\n",
              "      <td>288</td>\n",
              "    </tr>\n",
              "    <tr>\n",
              "      <th>Casualty_class</th>\n",
              "      <td>0</td>\n",
              "    </tr>\n",
              "    <tr>\n",
              "      <th>Sex_of_casualty</th>\n",
              "      <td>0</td>\n",
              "    </tr>\n",
              "    <tr>\n",
              "      <th>Age_band_of_casualty</th>\n",
              "      <td>0</td>\n",
              "    </tr>\n",
              "    <tr>\n",
              "      <th>Casualty_severity</th>\n",
              "      <td>0</td>\n",
              "    </tr>\n",
              "    <tr>\n",
              "      <th>Work_of_casuality</th>\n",
              "      <td>2982</td>\n",
              "    </tr>\n",
              "    <tr>\n",
              "      <th>Fitness_of_casuality</th>\n",
              "      <td>2461</td>\n",
              "    </tr>\n",
              "    <tr>\n",
              "      <th>Pedestrian_movement</th>\n",
              "      <td>0</td>\n",
              "    </tr>\n",
              "    <tr>\n",
              "      <th>Cause_of_accident</th>\n",
              "      <td>0</td>\n",
              "    </tr>\n",
              "    <tr>\n",
              "      <th>Accident_severity</th>\n",
              "      <td>0</td>\n",
              "    </tr>\n",
              "  </tbody>\n",
              "</table><br><label><b>dtype:</b> int64</label>"
            ]
          },
          "metadata": {},
          "execution_count": 101
        }
      ]
    },
    {
      "cell_type": "code",
      "source": [
        "\n",
        "#df.dropna(subset=['Educational_level'], inplace=True)\n",
        "#df.drop(df['Educational_level'].dropna().index, inplace = True)\n",
        "#df.drop(index=df[df.Educational_level.isnull()].index,inplace=True)\n",
        "#df['Defect_of_vehicle'].fillna(df['Defect_of_vehicle'].mode()[0], inplace=True)"
      ],
      "metadata": {
        "id": "aXLW4ycyWRk1"
      },
      "id": "aXLW4ycyWRk1",
      "execution_count": 102,
      "outputs": []
    },
    {
      "cell_type": "code",
      "source": [
        "df.shape"
      ],
      "metadata": {
        "id": "lFPUK7TkW4TP",
        "outputId": "e00ae202-d29e-4af7-da92-34362449a0cd",
        "colab": {
          "base_uri": "https://localhost:8080/"
        }
      },
      "id": "lFPUK7TkW4TP",
      "execution_count": 103,
      "outputs": [
        {
          "output_type": "execute_result",
          "data": {
            "text/plain": [
              "(11477, 32)"
            ]
          },
          "metadata": {},
          "execution_count": 103
        }
      ]
    },
    {
      "cell_type": "code",
      "source": [
        "df['Vehicle_driver_relation'].unique()"
      ],
      "metadata": {
        "id": "c4y7fZ-vYFpe",
        "outputId": "f5d6c408-b827-4581-acf8-a45179f37087",
        "colab": {
          "base_uri": "https://localhost:8080/"
        }
      },
      "id": "c4y7fZ-vYFpe",
      "execution_count": 104,
      "outputs": [
        {
          "output_type": "execute_result",
          "data": {
            "text/plain": [
              "array(['Employee', 'Owner', 'Other', 'Unknown'], dtype=object)"
            ]
          },
          "metadata": {},
          "execution_count": 104
        }
      ]
    },
    {
      "cell_type": "code",
      "source": [
        "df[\"Driving_experience\"].unique()"
      ],
      "metadata": {
        "id": "asJqyh_dYTkO",
        "outputId": "b3a8a0d0-c3a7-4de2-d2ad-81297438a1fd",
        "colab": {
          "base_uri": "https://localhost:8080/"
        }
      },
      "id": "asJqyh_dYTkO",
      "execution_count": 105,
      "outputs": [
        {
          "output_type": "execute_result",
          "data": {
            "text/plain": [
              "array(['1-2yr', 'Above 10yr', '5-10yr', '2-5yr', 'No Licence',\n",
              "       'Below 1yr', nan, 'unknown'], dtype=object)"
            ]
          },
          "metadata": {},
          "execution_count": 105
        }
      ]
    },
    {
      "cell_type": "code",
      "source": [
        "df.drop(index=df[df.Driving_experience.isnull()].index,inplace=True)"
      ],
      "metadata": {
        "id": "tUwi10XmZyPr"
      },
      "id": "tUwi10XmZyPr",
      "execution_count": 106,
      "outputs": []
    },
    {
      "cell_type": "code",
      "source": [
        "df[\"Driving_experience\"].unique()"
      ],
      "metadata": {
        "id": "r5RLzppMa3mf",
        "outputId": "0bb89bc5-5cf0-47c4-c09c-6e37b005f3c4",
        "colab": {
          "base_uri": "https://localhost:8080/"
        }
      },
      "id": "r5RLzppMa3mf",
      "execution_count": 107,
      "outputs": [
        {
          "output_type": "execute_result",
          "data": {
            "text/plain": [
              "array(['1-2yr', 'Above 10yr', '5-10yr', '2-5yr', 'No Licence',\n",
              "       'Below 1yr', 'unknown'], dtype=object)"
            ]
          },
          "metadata": {},
          "execution_count": 107
        }
      ]
    },
    {
      "cell_type": "code",
      "source": [
        "df.isnull().sum()"
      ],
      "metadata": {
        "id": "JrLtnTINZ7DU",
        "outputId": "4ae90a72-50eb-4ab8-97da-a7f9bc4a9ac3",
        "colab": {
          "base_uri": "https://localhost:8080/",
          "height": 1000
        }
      },
      "id": "JrLtnTINZ7DU",
      "execution_count": 108,
      "outputs": [
        {
          "output_type": "execute_result",
          "data": {
            "text/plain": [
              "Time                              0\n",
              "Day_of_week                       0\n",
              "Age_band_of_driver                0\n",
              "Sex_of_driver                     0\n",
              "Educational_level                 0\n",
              "Vehicle_driver_relation           0\n",
              "Driving_experience                0\n",
              "Type_of_vehicle                 818\n",
              "Owner_of_vehicle                389\n",
              "Service_year_of_vehicle        3487\n",
              "Defect_of_vehicle              3987\n",
              "Area_accident_occured           202\n",
              "Lanes_or_Medians                340\n",
              "Road_allignment                 132\n",
              "Types_of_Junction               818\n",
              "Road_surface_type               158\n",
              "Road_surface_conditions           0\n",
              "Light_conditions                  0\n",
              "Weather_conditions                0\n",
              "Type_of_collision               142\n",
              "Number_of_vehicles_involved       0\n",
              "Number_of_casualties              0\n",
              "Vehicle_movement                282\n",
              "Casualty_class                    0\n",
              "Sex_of_casualty                   0\n",
              "Age_band_of_casualty              0\n",
              "Casualty_severity                 0\n",
              "Work_of_casuality              2931\n",
              "Fitness_of_casuality           2411\n",
              "Pedestrian_movement               0\n",
              "Cause_of_accident                 0\n",
              "Accident_severity                 0\n",
              "dtype: int64"
            ],
            "text/html": [
              "<table border=\"1\" class=\"dataframe\">\n",
              "  <thead>\n",
              "    <tr style=\"text-align: right;\">\n",
              "      <th></th>\n",
              "      <th>0</th>\n",
              "    </tr>\n",
              "  </thead>\n",
              "  <tbody>\n",
              "    <tr>\n",
              "      <th>Time</th>\n",
              "      <td>0</td>\n",
              "    </tr>\n",
              "    <tr>\n",
              "      <th>Day_of_week</th>\n",
              "      <td>0</td>\n",
              "    </tr>\n",
              "    <tr>\n",
              "      <th>Age_band_of_driver</th>\n",
              "      <td>0</td>\n",
              "    </tr>\n",
              "    <tr>\n",
              "      <th>Sex_of_driver</th>\n",
              "      <td>0</td>\n",
              "    </tr>\n",
              "    <tr>\n",
              "      <th>Educational_level</th>\n",
              "      <td>0</td>\n",
              "    </tr>\n",
              "    <tr>\n",
              "      <th>Vehicle_driver_relation</th>\n",
              "      <td>0</td>\n",
              "    </tr>\n",
              "    <tr>\n",
              "      <th>Driving_experience</th>\n",
              "      <td>0</td>\n",
              "    </tr>\n",
              "    <tr>\n",
              "      <th>Type_of_vehicle</th>\n",
              "      <td>818</td>\n",
              "    </tr>\n",
              "    <tr>\n",
              "      <th>Owner_of_vehicle</th>\n",
              "      <td>389</td>\n",
              "    </tr>\n",
              "    <tr>\n",
              "      <th>Service_year_of_vehicle</th>\n",
              "      <td>3487</td>\n",
              "    </tr>\n",
              "    <tr>\n",
              "      <th>Defect_of_vehicle</th>\n",
              "      <td>3987</td>\n",
              "    </tr>\n",
              "    <tr>\n",
              "      <th>Area_accident_occured</th>\n",
              "      <td>202</td>\n",
              "    </tr>\n",
              "    <tr>\n",
              "      <th>Lanes_or_Medians</th>\n",
              "      <td>340</td>\n",
              "    </tr>\n",
              "    <tr>\n",
              "      <th>Road_allignment</th>\n",
              "      <td>132</td>\n",
              "    </tr>\n",
              "    <tr>\n",
              "      <th>Types_of_Junction</th>\n",
              "      <td>818</td>\n",
              "    </tr>\n",
              "    <tr>\n",
              "      <th>Road_surface_type</th>\n",
              "      <td>158</td>\n",
              "    </tr>\n",
              "    <tr>\n",
              "      <th>Road_surface_conditions</th>\n",
              "      <td>0</td>\n",
              "    </tr>\n",
              "    <tr>\n",
              "      <th>Light_conditions</th>\n",
              "      <td>0</td>\n",
              "    </tr>\n",
              "    <tr>\n",
              "      <th>Weather_conditions</th>\n",
              "      <td>0</td>\n",
              "    </tr>\n",
              "    <tr>\n",
              "      <th>Type_of_collision</th>\n",
              "      <td>142</td>\n",
              "    </tr>\n",
              "    <tr>\n",
              "      <th>Number_of_vehicles_involved</th>\n",
              "      <td>0</td>\n",
              "    </tr>\n",
              "    <tr>\n",
              "      <th>Number_of_casualties</th>\n",
              "      <td>0</td>\n",
              "    </tr>\n",
              "    <tr>\n",
              "      <th>Vehicle_movement</th>\n",
              "      <td>282</td>\n",
              "    </tr>\n",
              "    <tr>\n",
              "      <th>Casualty_class</th>\n",
              "      <td>0</td>\n",
              "    </tr>\n",
              "    <tr>\n",
              "      <th>Sex_of_casualty</th>\n",
              "      <td>0</td>\n",
              "    </tr>\n",
              "    <tr>\n",
              "      <th>Age_band_of_casualty</th>\n",
              "      <td>0</td>\n",
              "    </tr>\n",
              "    <tr>\n",
              "      <th>Casualty_severity</th>\n",
              "      <td>0</td>\n",
              "    </tr>\n",
              "    <tr>\n",
              "      <th>Work_of_casuality</th>\n",
              "      <td>2931</td>\n",
              "    </tr>\n",
              "    <tr>\n",
              "      <th>Fitness_of_casuality</th>\n",
              "      <td>2411</td>\n",
              "    </tr>\n",
              "    <tr>\n",
              "      <th>Pedestrian_movement</th>\n",
              "      <td>0</td>\n",
              "    </tr>\n",
              "    <tr>\n",
              "      <th>Cause_of_accident</th>\n",
              "      <td>0</td>\n",
              "    </tr>\n",
              "    <tr>\n",
              "      <th>Accident_severity</th>\n",
              "      <td>0</td>\n",
              "    </tr>\n",
              "  </tbody>\n",
              "</table><br><label><b>dtype:</b> int64</label>"
            ]
          },
          "metadata": {},
          "execution_count": 108
        }
      ]
    },
    {
      "cell_type": "code",
      "source": [
        "\n",
        "\n",
        "#df['Vehicle_driver_relation'].replace('nan', np.nan, inplace=True)\n"
      ],
      "metadata": {
        "id": "7kgAJd5PY1G9"
      },
      "id": "7kgAJd5PY1G9",
      "execution_count": 109,
      "outputs": []
    },
    {
      "cell_type": "code",
      "source": [
        "df.drop(index=df[df.Type_of_vehicle.isnull()].index,inplace=True)"
      ],
      "metadata": {
        "id": "fSZk7wcQZCBB"
      },
      "id": "fSZk7wcQZCBB",
      "execution_count": 110,
      "outputs": []
    },
    {
      "cell_type": "code",
      "source": [
        "df['Type_of_vehicle'].unique()"
      ],
      "metadata": {
        "id": "x5LDEeWbaC1E",
        "outputId": "56c608dc-ef1b-4dc9-f930-a094bd4e61ff",
        "colab": {
          "base_uri": "https://localhost:8080/"
        }
      },
      "id": "x5LDEeWbaC1E",
      "execution_count": 111,
      "outputs": [
        {
          "output_type": "execute_result",
          "data": {
            "text/plain": [
              "array(['Automobile', 'Public (> 45 seats)', 'Lorry (41?100Q)',\n",
              "       'Public (13?45 seats)', 'Lorry (11?40Q)', 'Long lorry',\n",
              "       'Public (12 seats)', 'Taxi', 'Pick up upto 10Q', 'Stationwagen',\n",
              "       'Ridden horse', 'Other', 'Bajaj', 'Motorcycle', 'Turbo',\n",
              "       'Special vehicle', 'Bicycle'], dtype=object)"
            ]
          },
          "metadata": {},
          "execution_count": 111
        }
      ]
    },
    {
      "cell_type": "code",
      "source": [
        "df.isnull().sum()"
      ],
      "metadata": {
        "id": "Dhc3sMHaY80X",
        "outputId": "973d40d9-0fef-42ab-8a2f-7d9795c86a1f",
        "colab": {
          "base_uri": "https://localhost:8080/",
          "height": 1000
        }
      },
      "id": "Dhc3sMHaY80X",
      "execution_count": 112,
      "outputs": [
        {
          "output_type": "execute_result",
          "data": {
            "text/plain": [
              "Time                              0\n",
              "Day_of_week                       0\n",
              "Age_band_of_driver                0\n",
              "Sex_of_driver                     0\n",
              "Educational_level                 0\n",
              "Vehicle_driver_relation           0\n",
              "Driving_experience                0\n",
              "Type_of_vehicle                   0\n",
              "Owner_of_vehicle                355\n",
              "Service_year_of_vehicle        3206\n",
              "Defect_of_vehicle              3678\n",
              "Area_accident_occured           183\n",
              "Lanes_or_Medians                313\n",
              "Road_allignment                 121\n",
              "Types_of_Junction               753\n",
              "Road_surface_type               145\n",
              "Road_surface_conditions           0\n",
              "Light_conditions                  0\n",
              "Weather_conditions                0\n",
              "Type_of_collision               133\n",
              "Number_of_vehicles_involved       0\n",
              "Number_of_casualties              0\n",
              "Vehicle_movement                269\n",
              "Casualty_class                    0\n",
              "Sex_of_casualty                   0\n",
              "Age_band_of_casualty              0\n",
              "Casualty_severity                 0\n",
              "Work_of_casuality              2714\n",
              "Fitness_of_casuality           2235\n",
              "Pedestrian_movement               0\n",
              "Cause_of_accident                 0\n",
              "Accident_severity                 0\n",
              "dtype: int64"
            ],
            "text/html": [
              "<table border=\"1\" class=\"dataframe\">\n",
              "  <thead>\n",
              "    <tr style=\"text-align: right;\">\n",
              "      <th></th>\n",
              "      <th>0</th>\n",
              "    </tr>\n",
              "  </thead>\n",
              "  <tbody>\n",
              "    <tr>\n",
              "      <th>Time</th>\n",
              "      <td>0</td>\n",
              "    </tr>\n",
              "    <tr>\n",
              "      <th>Day_of_week</th>\n",
              "      <td>0</td>\n",
              "    </tr>\n",
              "    <tr>\n",
              "      <th>Age_band_of_driver</th>\n",
              "      <td>0</td>\n",
              "    </tr>\n",
              "    <tr>\n",
              "      <th>Sex_of_driver</th>\n",
              "      <td>0</td>\n",
              "    </tr>\n",
              "    <tr>\n",
              "      <th>Educational_level</th>\n",
              "      <td>0</td>\n",
              "    </tr>\n",
              "    <tr>\n",
              "      <th>Vehicle_driver_relation</th>\n",
              "      <td>0</td>\n",
              "    </tr>\n",
              "    <tr>\n",
              "      <th>Driving_experience</th>\n",
              "      <td>0</td>\n",
              "    </tr>\n",
              "    <tr>\n",
              "      <th>Type_of_vehicle</th>\n",
              "      <td>0</td>\n",
              "    </tr>\n",
              "    <tr>\n",
              "      <th>Owner_of_vehicle</th>\n",
              "      <td>355</td>\n",
              "    </tr>\n",
              "    <tr>\n",
              "      <th>Service_year_of_vehicle</th>\n",
              "      <td>3206</td>\n",
              "    </tr>\n",
              "    <tr>\n",
              "      <th>Defect_of_vehicle</th>\n",
              "      <td>3678</td>\n",
              "    </tr>\n",
              "    <tr>\n",
              "      <th>Area_accident_occured</th>\n",
              "      <td>183</td>\n",
              "    </tr>\n",
              "    <tr>\n",
              "      <th>Lanes_or_Medians</th>\n",
              "      <td>313</td>\n",
              "    </tr>\n",
              "    <tr>\n",
              "      <th>Road_allignment</th>\n",
              "      <td>121</td>\n",
              "    </tr>\n",
              "    <tr>\n",
              "      <th>Types_of_Junction</th>\n",
              "      <td>753</td>\n",
              "    </tr>\n",
              "    <tr>\n",
              "      <th>Road_surface_type</th>\n",
              "      <td>145</td>\n",
              "    </tr>\n",
              "    <tr>\n",
              "      <th>Road_surface_conditions</th>\n",
              "      <td>0</td>\n",
              "    </tr>\n",
              "    <tr>\n",
              "      <th>Light_conditions</th>\n",
              "      <td>0</td>\n",
              "    </tr>\n",
              "    <tr>\n",
              "      <th>Weather_conditions</th>\n",
              "      <td>0</td>\n",
              "    </tr>\n",
              "    <tr>\n",
              "      <th>Type_of_collision</th>\n",
              "      <td>133</td>\n",
              "    </tr>\n",
              "    <tr>\n",
              "      <th>Number_of_vehicles_involved</th>\n",
              "      <td>0</td>\n",
              "    </tr>\n",
              "    <tr>\n",
              "      <th>Number_of_casualties</th>\n",
              "      <td>0</td>\n",
              "    </tr>\n",
              "    <tr>\n",
              "      <th>Vehicle_movement</th>\n",
              "      <td>269</td>\n",
              "    </tr>\n",
              "    <tr>\n",
              "      <th>Casualty_class</th>\n",
              "      <td>0</td>\n",
              "    </tr>\n",
              "    <tr>\n",
              "      <th>Sex_of_casualty</th>\n",
              "      <td>0</td>\n",
              "    </tr>\n",
              "    <tr>\n",
              "      <th>Age_band_of_casualty</th>\n",
              "      <td>0</td>\n",
              "    </tr>\n",
              "    <tr>\n",
              "      <th>Casualty_severity</th>\n",
              "      <td>0</td>\n",
              "    </tr>\n",
              "    <tr>\n",
              "      <th>Work_of_casuality</th>\n",
              "      <td>2714</td>\n",
              "    </tr>\n",
              "    <tr>\n",
              "      <th>Fitness_of_casuality</th>\n",
              "      <td>2235</td>\n",
              "    </tr>\n",
              "    <tr>\n",
              "      <th>Pedestrian_movement</th>\n",
              "      <td>0</td>\n",
              "    </tr>\n",
              "    <tr>\n",
              "      <th>Cause_of_accident</th>\n",
              "      <td>0</td>\n",
              "    </tr>\n",
              "    <tr>\n",
              "      <th>Accident_severity</th>\n",
              "      <td>0</td>\n",
              "    </tr>\n",
              "  </tbody>\n",
              "</table><br><label><b>dtype:</b> int64</label>"
            ]
          },
          "metadata": {},
          "execution_count": 112
        }
      ]
    },
    {
      "cell_type": "code",
      "source": [
        "df[\"Owner_of_vehicle\"].unique()"
      ],
      "metadata": {
        "id": "e073MsfAbQ83",
        "outputId": "3c0a8cc8-de2c-4a97-e001-742a67cd25aa",
        "colab": {
          "base_uri": "https://localhost:8080/"
        }
      },
      "id": "e073MsfAbQ83",
      "execution_count": 113,
      "outputs": [
        {
          "output_type": "execute_result",
          "data": {
            "text/plain": [
              "array(['Owner', 'Governmental', 'Organization', nan, 'Other'],\n",
              "      dtype=object)"
            ]
          },
          "metadata": {},
          "execution_count": 113
        }
      ]
    },
    {
      "cell_type": "code",
      "source": [
        "df.drop(index=df[df.Owner_of_vehicle.isnull()].index,inplace=True)"
      ],
      "metadata": {
        "id": "4ThbU5m2bXR_"
      },
      "id": "4ThbU5m2bXR_",
      "execution_count": 114,
      "outputs": []
    },
    {
      "cell_type": "code",
      "source": [
        "#df.drop(index=df[df.Educational_level.isnull()].index,inplace=True)\n",
        "df[\"Owner_of_vehicle\"].unique()"
      ],
      "metadata": {
        "id": "rhGAs0RIaQVE",
        "outputId": "7f71335c-b786-4902-b5b0-e42f7858561c",
        "colab": {
          "base_uri": "https://localhost:8080/"
        }
      },
      "id": "rhGAs0RIaQVE",
      "execution_count": 115,
      "outputs": [
        {
          "output_type": "execute_result",
          "data": {
            "text/plain": [
              "array(['Owner', 'Governmental', 'Organization', 'Other'], dtype=object)"
            ]
          },
          "metadata": {},
          "execution_count": 115
        }
      ]
    },
    {
      "cell_type": "code",
      "source": [
        "df[\"Area_accident_occured\"].unique()"
      ],
      "metadata": {
        "id": "5BgXFmExbgtC",
        "outputId": "82deee0a-f894-4731-8e62-919ee91890c6",
        "colab": {
          "base_uri": "https://localhost:8080/"
        }
      },
      "id": "5BgXFmExbgtC",
      "execution_count": 116,
      "outputs": [
        {
          "output_type": "execute_result",
          "data": {
            "text/plain": [
              "array(['Residential areas', 'Office areas', '  Recreational areas',\n",
              "       ' Industrial areas', 'Other', ' Church areas', '  Market areas',\n",
              "       'Rural village areas', ' Outside rural areas', ' Hospital areas',\n",
              "       nan, 'School areas', 'Recreational areas',\n",
              "       'Rural village areasOffice areas'], dtype=object)"
            ]
          },
          "metadata": {},
          "execution_count": 116
        }
      ]
    },
    {
      "cell_type": "code",
      "source": [
        "df.drop(index=df[df.Area_accident_occured.isnull()].index,inplace=True)"
      ],
      "metadata": {
        "id": "rQkhcEskbm7i"
      },
      "id": "rQkhcEskbm7i",
      "execution_count": 117,
      "outputs": []
    },
    {
      "cell_type": "code",
      "source": [
        "df[\"Road_allignment\"].unique()"
      ],
      "metadata": {
        "id": "1O3VJRxSbwLx",
        "outputId": "f5cab34e-910e-4030-a5e4-deac80139e3f",
        "colab": {
          "base_uri": "https://localhost:8080/"
        }
      },
      "id": "1O3VJRxSbwLx",
      "execution_count": 118,
      "outputs": [
        {
          "output_type": "execute_result",
          "data": {
            "text/plain": [
              "array(['Tangent road with flat terrain', nan,\n",
              "       'Tangent road with mild grade and flat terrain', 'Escarpments',\n",
              "       'Tangent road with rolling terrain', 'Gentle horizontal curve',\n",
              "       'Tangent road with mountainous terrain and',\n",
              "       'Steep grade downward with mountainous terrain',\n",
              "       'Sharp reverse curve',\n",
              "       'Steep grade upward with mountainous terrain'], dtype=object)"
            ]
          },
          "metadata": {},
          "execution_count": 118
        }
      ]
    },
    {
      "cell_type": "code",
      "source": [
        "df.drop(index=df[df.Road_allignment.isnull()].index,inplace=True)"
      ],
      "metadata": {
        "id": "-fSOcBrwbzic"
      },
      "id": "-fSOcBrwbzic",
      "execution_count": 119,
      "outputs": []
    },
    {
      "cell_type": "code",
      "source": [
        "df[\"Road_surface_type\"].unique()"
      ],
      "metadata": {
        "id": "4plSNc7CcHuO",
        "outputId": "9e03b1ec-309a-4de7-c07a-58a58cf502d8",
        "colab": {
          "base_uri": "https://localhost:8080/"
        }
      },
      "id": "4plSNc7CcHuO",
      "execution_count": 120,
      "outputs": [
        {
          "output_type": "execute_result",
          "data": {
            "text/plain": [
              "array(['Asphalt roads', 'Earth roads', nan, 'Gravel roads', 'Other',\n",
              "       'Asphalt roads with some distress'], dtype=object)"
            ]
          },
          "metadata": {},
          "execution_count": 120
        }
      ]
    },
    {
      "cell_type": "code",
      "source": [
        "df.drop(index=df[df.Road_surface_type.isnull()].index,inplace=True)"
      ],
      "metadata": {
        "id": "JIIBenlecMli"
      },
      "id": "JIIBenlecMli",
      "execution_count": 121,
      "outputs": []
    },
    {
      "cell_type": "code",
      "source": [
        "df[\"Type_of_collision\"].unique()"
      ],
      "metadata": {
        "id": "_qwrCVbTcTqW",
        "outputId": "4f27f7db-64a4-4d70-a759-ae70fa85fdd1",
        "colab": {
          "base_uri": "https://localhost:8080/"
        }
      },
      "id": "_qwrCVbTcTqW",
      "execution_count": 122,
      "outputs": [
        {
          "output_type": "execute_result",
          "data": {
            "text/plain": [
              "array(['Collision with roadside-parked vehicles',\n",
              "       'Vehicle with vehicle collision', 'Collision with animals',\n",
              "       'Other', 'Rollover', 'Fall from vehicles',\n",
              "       'Collision with pedestrians', 'Collision with roadside objects',\n",
              "       'Unknown', nan, 'With Train'], dtype=object)"
            ]
          },
          "metadata": {},
          "execution_count": 122
        }
      ]
    },
    {
      "cell_type": "markdown",
      "source": [],
      "metadata": {
        "id": "9n6gXetsbop6"
      },
      "id": "9n6gXetsbop6"
    },
    {
      "cell_type": "code",
      "source": [
        "df.drop(index=df[df.Type_of_collision.isnull()].index,inplace=True)"
      ],
      "metadata": {
        "id": "1wz_KH9jcY6G"
      },
      "id": "1wz_KH9jcY6G",
      "execution_count": 123,
      "outputs": []
    },
    {
      "cell_type": "code",
      "source": [
        "df[\"Vehicle_movement\"].unique()"
      ],
      "metadata": {
        "id": "ALwwYls3chC5",
        "outputId": "20e0c60e-0be8-4627-b215-a80e905f8696",
        "colab": {
          "base_uri": "https://localhost:8080/"
        }
      },
      "id": "ALwwYls3chC5",
      "execution_count": 124,
      "outputs": [
        {
          "output_type": "execute_result",
          "data": {
            "text/plain": [
              "array(['Going straight', 'U-Turn', 'Turnover', 'Waiting to go',\n",
              "       'Moving Backward', 'Getting off', 'Reversing', 'Unknown', 'Parked',\n",
              "       'Stopping', 'Other', 'Overtaking', nan, 'Entering a junction'],\n",
              "      dtype=object)"
            ]
          },
          "metadata": {},
          "execution_count": 124
        }
      ]
    },
    {
      "cell_type": "code",
      "source": [
        "df.drop(index=df[df.Vehicle_movement.isnull()].index,inplace=True)"
      ],
      "metadata": {
        "id": "0XY7IaxIclIB"
      },
      "id": "0XY7IaxIclIB",
      "execution_count": 125,
      "outputs": []
    },
    {
      "cell_type": "code",
      "source": [
        "df.shape"
      ],
      "metadata": {
        "id": "VrnscWYbcs14",
        "outputId": "be0f96a3-e41b-4342-8221-d97ddf2126ae",
        "colab": {
          "base_uri": "https://localhost:8080/"
        }
      },
      "id": "VrnscWYbcs14",
      "execution_count": 126,
      "outputs": [
        {
          "output_type": "execute_result",
          "data": {
            "text/plain": [
              "(9328, 32)"
            ]
          },
          "metadata": {},
          "execution_count": 126
        }
      ]
    },
    {
      "cell_type": "code",
      "source": [
        "df[\"Types_of_Junction\"].unique()"
      ],
      "metadata": {
        "id": "uu79IEdzc0wC",
        "outputId": "13373309-4b88-4bc7-90ce-8bb9cc431366",
        "colab": {
          "base_uri": "https://localhost:8080/"
        }
      },
      "id": "uu79IEdzc0wC",
      "execution_count": 127,
      "outputs": [
        {
          "output_type": "execute_result",
          "data": {
            "text/plain": [
              "array(['No junction', 'Y Shape', 'Crossing', 'O Shape', 'Other',\n",
              "       'Unknown', 'T Shape', 'X Shape', nan], dtype=object)"
            ]
          },
          "metadata": {},
          "execution_count": 127
        }
      ]
    },
    {
      "cell_type": "code",
      "source": [
        "df.drop(index=df[df.Types_of_Junction.isnull()].index,inplace=True)"
      ],
      "metadata": {
        "id": "XjF7sOBWc6ec"
      },
      "id": "XjF7sOBWc6ec",
      "execution_count": 128,
      "outputs": []
    },
    {
      "cell_type": "code",
      "source": [
        "df[\"Work_of_casuality\"].unique()"
      ],
      "metadata": {
        "id": "TvFyUffZdCky",
        "outputId": "8f36c72d-ae54-4f11-a182-0aed06d0115c",
        "colab": {
          "base_uri": "https://localhost:8080/"
        }
      },
      "id": "TvFyUffZdCky",
      "execution_count": 129,
      "outputs": [
        {
          "output_type": "execute_result",
          "data": {
            "text/plain": [
              "array([nan, 'Driver', 'Other', 'Employee', 'Self-employed', 'Student',\n",
              "       'Unemployed', 'Unknown'], dtype=object)"
            ]
          },
          "metadata": {},
          "execution_count": 129
        }
      ]
    },
    {
      "cell_type": "code",
      "source": [
        "df[\"Service_year_of_vehicle\"].unique()"
      ],
      "metadata": {
        "id": "MF1NxXzfdUha",
        "outputId": "85368942-f652-4cf9-ebfe-6c958f78298d",
        "colab": {
          "base_uri": "https://localhost:8080/"
        }
      },
      "id": "MF1NxXzfdUha",
      "execution_count": 130,
      "outputs": [
        {
          "output_type": "execute_result",
          "data": {
            "text/plain": [
              "array(['Above 10yr', '5-10yrs', nan, '1-2yr', '2-5yrs', 'Unknown',\n",
              "       'Below 1yr'], dtype=object)"
            ]
          },
          "metadata": {},
          "execution_count": 130
        }
      ]
    },
    {
      "cell_type": "code",
      "source": [
        "df['Defect_of_vehicle'].fillna(df['Defect_of_vehicle'].mode()[0], inplace=True)"
      ],
      "metadata": {
        "id": "ykySiinUdPhe"
      },
      "id": "ykySiinUdPhe",
      "execution_count": 131,
      "outputs": []
    },
    {
      "cell_type": "code",
      "source": [
        "df['Lanes_or_Medians'].unique()"
      ],
      "metadata": {
        "id": "miJMUwNYdm25",
        "outputId": "583bb755-23cb-466e-abd5-4ea66998b5de",
        "colab": {
          "base_uri": "https://localhost:8080/"
        }
      },
      "id": "miJMUwNYdm25",
      "execution_count": 132,
      "outputs": [
        {
          "output_type": "execute_result",
          "data": {
            "text/plain": [
              "array([nan, 'Undivided Two way', 'other', 'Double carriageway (median)',\n",
              "       'One way', 'Two-way (divided with solid lines road marking)',\n",
              "       'Two-way (divided with broken lines road marking)', 'Unknown'],\n",
              "      dtype=object)"
            ]
          },
          "metadata": {},
          "execution_count": 132
        }
      ]
    },
    {
      "cell_type": "code",
      "source": [
        "df.drop(index=df[df.Lanes_or_Medians.isnull()].index,inplace=True)"
      ],
      "metadata": {
        "id": "rBOxrhPUduRK"
      },
      "id": "rBOxrhPUduRK",
      "execution_count": 133,
      "outputs": []
    },
    {
      "cell_type": "code",
      "source": [
        "df[\"Fitness_of_casuality\"].unique()"
      ],
      "metadata": {
        "id": "9TOzLgVnd7wW",
        "outputId": "04132023-1697-47bd-fe43-d0f858d82739",
        "colab": {
          "base_uri": "https://localhost:8080/"
        }
      },
      "id": "9TOzLgVnd7wW",
      "execution_count": 134,
      "outputs": [
        {
          "output_type": "execute_result",
          "data": {
            "text/plain": [
              "array([nan, 'Normal', 'Deaf', 'Blind', 'NormalNormal', 'Other'],\n",
              "      dtype=object)"
            ]
          },
          "metadata": {},
          "execution_count": 134
        }
      ]
    },
    {
      "cell_type": "code",
      "source": [
        "\n",
        "df.drop(columns=['Fitness_of_casuality'], inplace=True)\n"
      ],
      "metadata": {
        "id": "zFMh-Dh_d2zA"
      },
      "id": "zFMh-Dh_d2zA",
      "execution_count": 135,
      "outputs": []
    },
    {
      "cell_type": "code",
      "source": [
        "df[\"Defect_of_vehicle\"].unique()"
      ],
      "metadata": {
        "id": "G-h-AqLjePn1",
        "outputId": "c75312b3-5beb-4371-c3ca-6154f57ed5b3",
        "colab": {
          "base_uri": "https://localhost:8080/"
        }
      },
      "id": "G-h-AqLjePn1",
      "execution_count": 136,
      "outputs": [
        {
          "output_type": "execute_result",
          "data": {
            "text/plain": [
              "array(['No defect', '7', '5'], dtype=object)"
            ]
          },
          "metadata": {},
          "execution_count": 136
        }
      ]
    },
    {
      "cell_type": "code",
      "source": [
        "df.drop(columns=['Defect_of_vehicle'], inplace=True)"
      ],
      "metadata": {
        "id": "JhZfOHBPev2i"
      },
      "id": "JhZfOHBPev2i",
      "execution_count": 137,
      "outputs": []
    },
    {
      "cell_type": "code",
      "source": [
        "df[\"Work_of_casuality\"].unique()"
      ],
      "metadata": {
        "id": "YRLNmiA2e11T",
        "outputId": "8d914c29-2cde-441e-e368-8270152a8933",
        "colab": {
          "base_uri": "https://localhost:8080/"
        }
      },
      "id": "YRLNmiA2e11T",
      "execution_count": 138,
      "outputs": [
        {
          "output_type": "execute_result",
          "data": {
            "text/plain": [
              "array([nan, 'Driver', 'Other', 'Employee', 'Self-employed', 'Student',\n",
              "       'Unemployed', 'Unknown'], dtype=object)"
            ]
          },
          "metadata": {},
          "execution_count": 138
        }
      ]
    },
    {
      "cell_type": "code",
      "source": [
        "df[\"Work_of_casuality\"].unique()"
      ],
      "metadata": {
        "id": "wC8kaBwxe8BO",
        "outputId": "b12139c4-ad67-4e34-99d1-1f114cb2e419",
        "colab": {
          "base_uri": "https://localhost:8080/"
        }
      },
      "id": "wC8kaBwxe8BO",
      "execution_count": 139,
      "outputs": [
        {
          "output_type": "execute_result",
          "data": {
            "text/plain": [
              "array([nan, 'Driver', 'Other', 'Employee', 'Self-employed', 'Student',\n",
              "       'Unemployed', 'Unknown'], dtype=object)"
            ]
          },
          "metadata": {},
          "execution_count": 139
        }
      ]
    },
    {
      "cell_type": "code",
      "source": [],
      "metadata": {
        "id": "YTmbeFiSfd5e"
      },
      "id": "YTmbeFiSfd5e",
      "execution_count": 139,
      "outputs": []
    },
    {
      "cell_type": "code",
      "source": [
        "df['Work_of_casuality'].replace(np.nan, 'Unknown', inplace=True)"
      ],
      "metadata": {
        "id": "HLbsB41TfQJd"
      },
      "id": "HLbsB41TfQJd",
      "execution_count": 140,
      "outputs": []
    },
    {
      "cell_type": "code",
      "source": [
        "df[\"Service_year_of_vehicle\"].unique()"
      ],
      "metadata": {
        "id": "tFOQE6L4fetl",
        "outputId": "244f64f5-7cd4-46d0-f595-186fa65c0c59",
        "colab": {
          "base_uri": "https://localhost:8080/"
        }
      },
      "id": "tFOQE6L4fetl",
      "execution_count": 141,
      "outputs": [
        {
          "output_type": "execute_result",
          "data": {
            "text/plain": [
              "array(['5-10yrs', nan, 'Above 10yr', '1-2yr', '2-5yrs', 'Unknown',\n",
              "       'Below 1yr'], dtype=object)"
            ]
          },
          "metadata": {},
          "execution_count": 141
        }
      ]
    },
    {
      "cell_type": "code",
      "source": [
        "df['Service_year_of_vehicle'].replace(np.nan, 'Unknown', inplace=True)"
      ],
      "metadata": {
        "id": "5ORNaPJSfh26"
      },
      "id": "5ORNaPJSfh26",
      "execution_count": 142,
      "outputs": []
    },
    {
      "cell_type": "code",
      "source": [
        "df.isnull().sum()"
      ],
      "metadata": {
        "id": "nUiXcDv_V8An",
        "outputId": "0de1034a-179e-44ed-b472-d39fde3e8e12",
        "colab": {
          "base_uri": "https://localhost:8080/",
          "height": 1000
        }
      },
      "id": "nUiXcDv_V8An",
      "execution_count": 143,
      "outputs": [
        {
          "output_type": "execute_result",
          "data": {
            "text/plain": [
              "Time                           0\n",
              "Day_of_week                    0\n",
              "Age_band_of_driver             0\n",
              "Sex_of_driver                  0\n",
              "Educational_level              0\n",
              "Vehicle_driver_relation        0\n",
              "Driving_experience             0\n",
              "Type_of_vehicle                0\n",
              "Owner_of_vehicle               0\n",
              "Service_year_of_vehicle        0\n",
              "Area_accident_occured          0\n",
              "Lanes_or_Medians               0\n",
              "Road_allignment                0\n",
              "Types_of_Junction              0\n",
              "Road_surface_type              0\n",
              "Road_surface_conditions        0\n",
              "Light_conditions               0\n",
              "Weather_conditions             0\n",
              "Type_of_collision              0\n",
              "Number_of_vehicles_involved    0\n",
              "Number_of_casualties           0\n",
              "Vehicle_movement               0\n",
              "Casualty_class                 0\n",
              "Sex_of_casualty                0\n",
              "Age_band_of_casualty           0\n",
              "Casualty_severity              0\n",
              "Work_of_casuality              0\n",
              "Pedestrian_movement            0\n",
              "Cause_of_accident              0\n",
              "Accident_severity              0\n",
              "dtype: int64"
            ],
            "text/html": [
              "<table border=\"1\" class=\"dataframe\">\n",
              "  <thead>\n",
              "    <tr style=\"text-align: right;\">\n",
              "      <th></th>\n",
              "      <th>0</th>\n",
              "    </tr>\n",
              "  </thead>\n",
              "  <tbody>\n",
              "    <tr>\n",
              "      <th>Time</th>\n",
              "      <td>0</td>\n",
              "    </tr>\n",
              "    <tr>\n",
              "      <th>Day_of_week</th>\n",
              "      <td>0</td>\n",
              "    </tr>\n",
              "    <tr>\n",
              "      <th>Age_band_of_driver</th>\n",
              "      <td>0</td>\n",
              "    </tr>\n",
              "    <tr>\n",
              "      <th>Sex_of_driver</th>\n",
              "      <td>0</td>\n",
              "    </tr>\n",
              "    <tr>\n",
              "      <th>Educational_level</th>\n",
              "      <td>0</td>\n",
              "    </tr>\n",
              "    <tr>\n",
              "      <th>Vehicle_driver_relation</th>\n",
              "      <td>0</td>\n",
              "    </tr>\n",
              "    <tr>\n",
              "      <th>Driving_experience</th>\n",
              "      <td>0</td>\n",
              "    </tr>\n",
              "    <tr>\n",
              "      <th>Type_of_vehicle</th>\n",
              "      <td>0</td>\n",
              "    </tr>\n",
              "    <tr>\n",
              "      <th>Owner_of_vehicle</th>\n",
              "      <td>0</td>\n",
              "    </tr>\n",
              "    <tr>\n",
              "      <th>Service_year_of_vehicle</th>\n",
              "      <td>0</td>\n",
              "    </tr>\n",
              "    <tr>\n",
              "      <th>Area_accident_occured</th>\n",
              "      <td>0</td>\n",
              "    </tr>\n",
              "    <tr>\n",
              "      <th>Lanes_or_Medians</th>\n",
              "      <td>0</td>\n",
              "    </tr>\n",
              "    <tr>\n",
              "      <th>Road_allignment</th>\n",
              "      <td>0</td>\n",
              "    </tr>\n",
              "    <tr>\n",
              "      <th>Types_of_Junction</th>\n",
              "      <td>0</td>\n",
              "    </tr>\n",
              "    <tr>\n",
              "      <th>Road_surface_type</th>\n",
              "      <td>0</td>\n",
              "    </tr>\n",
              "    <tr>\n",
              "      <th>Road_surface_conditions</th>\n",
              "      <td>0</td>\n",
              "    </tr>\n",
              "    <tr>\n",
              "      <th>Light_conditions</th>\n",
              "      <td>0</td>\n",
              "    </tr>\n",
              "    <tr>\n",
              "      <th>Weather_conditions</th>\n",
              "      <td>0</td>\n",
              "    </tr>\n",
              "    <tr>\n",
              "      <th>Type_of_collision</th>\n",
              "      <td>0</td>\n",
              "    </tr>\n",
              "    <tr>\n",
              "      <th>Number_of_vehicles_involved</th>\n",
              "      <td>0</td>\n",
              "    </tr>\n",
              "    <tr>\n",
              "      <th>Number_of_casualties</th>\n",
              "      <td>0</td>\n",
              "    </tr>\n",
              "    <tr>\n",
              "      <th>Vehicle_movement</th>\n",
              "      <td>0</td>\n",
              "    </tr>\n",
              "    <tr>\n",
              "      <th>Casualty_class</th>\n",
              "      <td>0</td>\n",
              "    </tr>\n",
              "    <tr>\n",
              "      <th>Sex_of_casualty</th>\n",
              "      <td>0</td>\n",
              "    </tr>\n",
              "    <tr>\n",
              "      <th>Age_band_of_casualty</th>\n",
              "      <td>0</td>\n",
              "    </tr>\n",
              "    <tr>\n",
              "      <th>Casualty_severity</th>\n",
              "      <td>0</td>\n",
              "    </tr>\n",
              "    <tr>\n",
              "      <th>Work_of_casuality</th>\n",
              "      <td>0</td>\n",
              "    </tr>\n",
              "    <tr>\n",
              "      <th>Pedestrian_movement</th>\n",
              "      <td>0</td>\n",
              "    </tr>\n",
              "    <tr>\n",
              "      <th>Cause_of_accident</th>\n",
              "      <td>0</td>\n",
              "    </tr>\n",
              "    <tr>\n",
              "      <th>Accident_severity</th>\n",
              "      <td>0</td>\n",
              "    </tr>\n",
              "  </tbody>\n",
              "</table><br><label><b>dtype:</b> int64</label>"
            ]
          },
          "metadata": {},
          "execution_count": 143
        }
      ]
    },
    {
      "cell_type": "markdown",
      "id": "bccfb706",
      "metadata": {
        "id": "bccfb706"
      },
      "source": [
        "## Data Preprocessing\n",
        "Data preprocessing is essential for transforming raw data into a format suitable for further analysis and modeling. Follow these steps to ensure your data is ready for predictive modeling or advanced analytics:\n",
        "- **Handling Missing Values**: Replace missing values with appropriate statistics (mean, median, mode) or use more complex imputation techniques.\n",
        "- **Normalization/Scaling**: Scale data to a small, specified range like 0 to 1, or transform it to have a mean of zero and a standard deviation of one.\n",
        "- **Label Encoding**: Convert categorical text data into model-understandable numbers where the labels are ordered.\n",
        "- **One-Hot Encoding**: Use for nominal categorical data where no ordinal relationship exists to transform the data into a binary column for each category. (Be careful not to increase the dimensionality significantly)\n",
        "- **Detection and Treatment of Outliers**: Use statistical tests, box plots, or scatter plots to identify outliers and then cap, trim, or use robust methods to reduce the effect of outliers, depending on the context.\n",
        "- **Feature Engineering**: Enhance your dataset by creating new features and transforming existing ones. This might involve combining data from different columns, applying transformations, or reducing dimensionality with techniques like PCA to improve model performance.\n",
        "\n",
        "Consider these steps as a foundation, and feel free to introduce additional preprocessing techniques as needed to address specific characteristics of your dataset."
      ]
    },
    {
      "cell_type": "code",
      "source": [
        "df['Time'] = pd.to_timedelta(df['Time'])"
      ],
      "metadata": {
        "id": "RvQilyxyf9Yn"
      },
      "id": "RvQilyxyf9Yn",
      "execution_count": 144,
      "outputs": []
    },
    {
      "cell_type": "code",
      "source": [
        "df.info()"
      ],
      "metadata": {
        "id": "lipDtAyaf_q-",
        "outputId": "36e0d4b2-e12c-4c0f-c38d-48bab845e511",
        "colab": {
          "base_uri": "https://localhost:8080/"
        }
      },
      "id": "lipDtAyaf_q-",
      "execution_count": 145,
      "outputs": [
        {
          "output_type": "stream",
          "name": "stdout",
          "text": [
            "<class 'pandas.core.frame.DataFrame'>\n",
            "Index: 8439 entries, 1 to 12315\n",
            "Data columns (total 30 columns):\n",
            " #   Column                       Non-Null Count  Dtype          \n",
            "---  ------                       --------------  -----          \n",
            " 0   Time                         8439 non-null   timedelta64[ns]\n",
            " 1   Day_of_week                  8439 non-null   object         \n",
            " 2   Age_band_of_driver           8439 non-null   object         \n",
            " 3   Sex_of_driver                8439 non-null   object         \n",
            " 4   Educational_level            8439 non-null   object         \n",
            " 5   Vehicle_driver_relation      8439 non-null   object         \n",
            " 6   Driving_experience           8439 non-null   object         \n",
            " 7   Type_of_vehicle              8439 non-null   object         \n",
            " 8   Owner_of_vehicle             8439 non-null   object         \n",
            " 9   Service_year_of_vehicle      8439 non-null   object         \n",
            " 10  Area_accident_occured        8439 non-null   object         \n",
            " 11  Lanes_or_Medians             8439 non-null   object         \n",
            " 12  Road_allignment              8439 non-null   object         \n",
            " 13  Types_of_Junction            8439 non-null   object         \n",
            " 14  Road_surface_type            8439 non-null   object         \n",
            " 15  Road_surface_conditions      8439 non-null   object         \n",
            " 16  Light_conditions             8439 non-null   object         \n",
            " 17  Weather_conditions           8439 non-null   object         \n",
            " 18  Type_of_collision            8439 non-null   object         \n",
            " 19  Number_of_vehicles_involved  8439 non-null   int64          \n",
            " 20  Number_of_casualties         8439 non-null   int64          \n",
            " 21  Vehicle_movement             8439 non-null   object         \n",
            " 22  Casualty_class               8439 non-null   object         \n",
            " 23  Sex_of_casualty              8439 non-null   object         \n",
            " 24  Age_band_of_casualty         8439 non-null   object         \n",
            " 25  Casualty_severity            8439 non-null   object         \n",
            " 26  Work_of_casuality            8439 non-null   object         \n",
            " 27  Pedestrian_movement          8439 non-null   object         \n",
            " 28  Cause_of_accident            8439 non-null   object         \n",
            " 29  Accident_severity            8439 non-null   object         \n",
            "dtypes: int64(2), object(27), timedelta64[ns](1)\n",
            "memory usage: 2.0+ MB\n"
          ]
        }
      ]
    },
    {
      "cell_type": "code",
      "source": [
        "df.isnull().sum()"
      ],
      "metadata": {
        "id": "nDTyPSm7h8Pv",
        "outputId": "4f46b81d-c009-4967-a78d-038affbf402f",
        "colab": {
          "base_uri": "https://localhost:8080/",
          "height": 1000
        }
      },
      "id": "nDTyPSm7h8Pv",
      "execution_count": 146,
      "outputs": [
        {
          "output_type": "execute_result",
          "data": {
            "text/plain": [
              "Time                           0\n",
              "Day_of_week                    0\n",
              "Age_band_of_driver             0\n",
              "Sex_of_driver                  0\n",
              "Educational_level              0\n",
              "Vehicle_driver_relation        0\n",
              "Driving_experience             0\n",
              "Type_of_vehicle                0\n",
              "Owner_of_vehicle               0\n",
              "Service_year_of_vehicle        0\n",
              "Area_accident_occured          0\n",
              "Lanes_or_Medians               0\n",
              "Road_allignment                0\n",
              "Types_of_Junction              0\n",
              "Road_surface_type              0\n",
              "Road_surface_conditions        0\n",
              "Light_conditions               0\n",
              "Weather_conditions             0\n",
              "Type_of_collision              0\n",
              "Number_of_vehicles_involved    0\n",
              "Number_of_casualties           0\n",
              "Vehicle_movement               0\n",
              "Casualty_class                 0\n",
              "Sex_of_casualty                0\n",
              "Age_band_of_casualty           0\n",
              "Casualty_severity              0\n",
              "Work_of_casuality              0\n",
              "Pedestrian_movement            0\n",
              "Cause_of_accident              0\n",
              "Accident_severity              0\n",
              "dtype: int64"
            ],
            "text/html": [
              "<table border=\"1\" class=\"dataframe\">\n",
              "  <thead>\n",
              "    <tr style=\"text-align: right;\">\n",
              "      <th></th>\n",
              "      <th>0</th>\n",
              "    </tr>\n",
              "  </thead>\n",
              "  <tbody>\n",
              "    <tr>\n",
              "      <th>Time</th>\n",
              "      <td>0</td>\n",
              "    </tr>\n",
              "    <tr>\n",
              "      <th>Day_of_week</th>\n",
              "      <td>0</td>\n",
              "    </tr>\n",
              "    <tr>\n",
              "      <th>Age_band_of_driver</th>\n",
              "      <td>0</td>\n",
              "    </tr>\n",
              "    <tr>\n",
              "      <th>Sex_of_driver</th>\n",
              "      <td>0</td>\n",
              "    </tr>\n",
              "    <tr>\n",
              "      <th>Educational_level</th>\n",
              "      <td>0</td>\n",
              "    </tr>\n",
              "    <tr>\n",
              "      <th>Vehicle_driver_relation</th>\n",
              "      <td>0</td>\n",
              "    </tr>\n",
              "    <tr>\n",
              "      <th>Driving_experience</th>\n",
              "      <td>0</td>\n",
              "    </tr>\n",
              "    <tr>\n",
              "      <th>Type_of_vehicle</th>\n",
              "      <td>0</td>\n",
              "    </tr>\n",
              "    <tr>\n",
              "      <th>Owner_of_vehicle</th>\n",
              "      <td>0</td>\n",
              "    </tr>\n",
              "    <tr>\n",
              "      <th>Service_year_of_vehicle</th>\n",
              "      <td>0</td>\n",
              "    </tr>\n",
              "    <tr>\n",
              "      <th>Area_accident_occured</th>\n",
              "      <td>0</td>\n",
              "    </tr>\n",
              "    <tr>\n",
              "      <th>Lanes_or_Medians</th>\n",
              "      <td>0</td>\n",
              "    </tr>\n",
              "    <tr>\n",
              "      <th>Road_allignment</th>\n",
              "      <td>0</td>\n",
              "    </tr>\n",
              "    <tr>\n",
              "      <th>Types_of_Junction</th>\n",
              "      <td>0</td>\n",
              "    </tr>\n",
              "    <tr>\n",
              "      <th>Road_surface_type</th>\n",
              "      <td>0</td>\n",
              "    </tr>\n",
              "    <tr>\n",
              "      <th>Road_surface_conditions</th>\n",
              "      <td>0</td>\n",
              "    </tr>\n",
              "    <tr>\n",
              "      <th>Light_conditions</th>\n",
              "      <td>0</td>\n",
              "    </tr>\n",
              "    <tr>\n",
              "      <th>Weather_conditions</th>\n",
              "      <td>0</td>\n",
              "    </tr>\n",
              "    <tr>\n",
              "      <th>Type_of_collision</th>\n",
              "      <td>0</td>\n",
              "    </tr>\n",
              "    <tr>\n",
              "      <th>Number_of_vehicles_involved</th>\n",
              "      <td>0</td>\n",
              "    </tr>\n",
              "    <tr>\n",
              "      <th>Number_of_casualties</th>\n",
              "      <td>0</td>\n",
              "    </tr>\n",
              "    <tr>\n",
              "      <th>Vehicle_movement</th>\n",
              "      <td>0</td>\n",
              "    </tr>\n",
              "    <tr>\n",
              "      <th>Casualty_class</th>\n",
              "      <td>0</td>\n",
              "    </tr>\n",
              "    <tr>\n",
              "      <th>Sex_of_casualty</th>\n",
              "      <td>0</td>\n",
              "    </tr>\n",
              "    <tr>\n",
              "      <th>Age_band_of_casualty</th>\n",
              "      <td>0</td>\n",
              "    </tr>\n",
              "    <tr>\n",
              "      <th>Casualty_severity</th>\n",
              "      <td>0</td>\n",
              "    </tr>\n",
              "    <tr>\n",
              "      <th>Work_of_casuality</th>\n",
              "      <td>0</td>\n",
              "    </tr>\n",
              "    <tr>\n",
              "      <th>Pedestrian_movement</th>\n",
              "      <td>0</td>\n",
              "    </tr>\n",
              "    <tr>\n",
              "      <th>Cause_of_accident</th>\n",
              "      <td>0</td>\n",
              "    </tr>\n",
              "    <tr>\n",
              "      <th>Accident_severity</th>\n",
              "      <td>0</td>\n",
              "    </tr>\n",
              "  </tbody>\n",
              "</table><br><label><b>dtype:</b> int64</label>"
            ]
          },
          "metadata": {},
          "execution_count": 146
        }
      ]
    },
    {
      "cell_type": "code",
      "source": [
        "df[\"Casualty_class\"].unique()\n"
      ],
      "metadata": {
        "id": "ZSoOna5YiFiP",
        "outputId": "905d795b-f950-4a29-a5a2-b41decd3f554",
        "colab": {
          "base_uri": "https://localhost:8080/"
        }
      },
      "id": "ZSoOna5YiFiP",
      "execution_count": 147,
      "outputs": [
        {
          "output_type": "execute_result",
          "data": {
            "text/plain": [
              "array(['na', 'Pedestrian', 'Passenger', 'Driver or rider'], dtype=object)"
            ]
          },
          "metadata": {},
          "execution_count": 147
        }
      ]
    },
    {
      "cell_type": "code",
      "source": [
        "df.columns"
      ],
      "metadata": {
        "id": "G7wUjFbUkYys",
        "outputId": "c6e5e92f-bce8-4041-cf5f-a355f2013609",
        "colab": {
          "base_uri": "https://localhost:8080/"
        }
      },
      "id": "G7wUjFbUkYys",
      "execution_count": 148,
      "outputs": [
        {
          "output_type": "execute_result",
          "data": {
            "text/plain": [
              "Index(['Time', 'Day_of_week', 'Age_band_of_driver', 'Sex_of_driver',\n",
              "       'Educational_level', 'Vehicle_driver_relation', 'Driving_experience',\n",
              "       'Type_of_vehicle', 'Owner_of_vehicle', 'Service_year_of_vehicle',\n",
              "       'Area_accident_occured', 'Lanes_or_Medians', 'Road_allignment',\n",
              "       'Types_of_Junction', 'Road_surface_type', 'Road_surface_conditions',\n",
              "       'Light_conditions', 'Weather_conditions', 'Type_of_collision',\n",
              "       'Number_of_vehicles_involved', 'Number_of_casualties',\n",
              "       'Vehicle_movement', 'Casualty_class', 'Sex_of_casualty',\n",
              "       'Age_band_of_casualty', 'Casualty_severity', 'Work_of_casuality',\n",
              "       'Pedestrian_movement', 'Cause_of_accident', 'Accident_severity'],\n",
              "      dtype='object')"
            ]
          },
          "metadata": {},
          "execution_count": 148
        }
      ]
    },
    {
      "cell_type": "code",
      "source": [
        "# Initialize LabelEncoder\n",
        "le = LabelEncoder()\n",
        "\n",
        "# Label encode 'Fuel_Type' column\n",
        "df['Casualty_class'] = le.fit_transform(df['Casualty_class'])\n",
        "#Vehicle_movement\n"
      ],
      "metadata": {
        "id": "4E7Rj-H3iSvT"
      },
      "id": "4E7Rj-H3iSvT",
      "execution_count": 149,
      "outputs": []
    },
    {
      "cell_type": "code",
      "source": [
        "# Initialize LabelEncoder\n",
        "\n",
        "\n",
        "# Label encode 'Fuel_Type' column\n",
        "df['Day_of_week'] = le.fit_transform(df['Day_of_week'])\n",
        "#Vehicle_movement\n"
      ],
      "metadata": {
        "id": "My8KPr0LsK0T"
      },
      "id": "My8KPr0LsK0T",
      "execution_count": 150,
      "outputs": []
    },
    {
      "cell_type": "code",
      "source": [
        "# Initialize OneHotEncoder\n",
        "#ohe = OneHotEncoder(sparse_output=False)\n",
        "\n",
        "# One-hot encode 'Name' column\n",
        "#name_encoded = ohe.fit_transform(df[['Vehicle_movement']])\n",
        "#name_encoded_df = pd.DataFrame(name_encoded, columns=ohe.get_feature_names_out(['Vehicle_movement']))\n",
        "\n",
        "# Concatenate the original dataframe with the new one-hot encoded dataframes\n",
        "#df_one_hot = pd.concat([df, name_encoded_df], axis=1)\n",
        "\n",
        "# Drop original columns if not needed\n",
        "#df_one_hot.drop(['Vehicle_movement'], axis=1, inplace=True)\n",
        "\n",
        "#df = df_one_hot"
      ],
      "metadata": {
        "id": "kNdkwOBMj1bW"
      },
      "id": "kNdkwOBMj1bW",
      "execution_count": 151,
      "outputs": []
    },
    {
      "cell_type": "code",
      "source": [
        "df.head()"
      ],
      "metadata": {
        "id": "oeMhprDthvYD",
        "outputId": "875b3250-6413-4052-d1db-c910a888e8ca",
        "colab": {
          "base_uri": "https://localhost:8080/",
          "height": 338
        }
      },
      "id": "oeMhprDthvYD",
      "execution_count": 152,
      "outputs": [
        {
          "output_type": "execute_result",
          "data": {
            "text/plain": [
              "             Time  Day_of_week Age_band_of_driver Sex_of_driver  \\\n",
              "1 0 days 17:02:00            1              31-50          Male   \n",
              "3 0 days 01:06:00            3              18-30          Male   \n",
              "7 0 days 17:20:00            0              18-30          Male   \n",
              "8 0 days 17:20:00            0              18-30          Male   \n",
              "9 0 days 17:20:00            0              18-30          Male   \n",
              "\n",
              "    Educational_level Vehicle_driver_relation Driving_experience  \\\n",
              "1  Junior high school                Employee         Above 10yr   \n",
              "3  Junior high school                Employee             5-10yr   \n",
              "7  Junior high school                Employee              2-5yr   \n",
              "8  Junior high school                Employee         Above 10yr   \n",
              "9  Junior high school                Employee              1-2yr   \n",
              "\n",
              "       Type_of_vehicle Owner_of_vehicle Service_year_of_vehicle  ...  \\\n",
              "1  Public (> 45 seats)            Owner                 5-10yrs  ...   \n",
              "3  Public (> 45 seats)     Governmental                 Unknown  ...   \n",
              "7           Automobile     Governmental              Above 10yr  ...   \n",
              "8      Lorry (41?100Q)            Owner                   1-2yr  ...   \n",
              "9           Automobile            Owner                  2-5yrs  ...   \n",
              "\n",
              "  Number_of_casualties Vehicle_movement Casualty_class Sex_of_casualty  \\\n",
              "1                    2   Going straight              3              na   \n",
              "3                    2   Going straight              2          Female   \n",
              "7                    1           U-Turn              3              na   \n",
              "8                    1   Going straight              2            Male   \n",
              "9                    1           U-Turn              1            Male   \n",
              "\n",
              "  Age_band_of_casualty Casualty_severity Work_of_casuality  \\\n",
              "1                   na                na           Unknown   \n",
              "3                18-30                 3            Driver   \n",
              "7                   na                na           Unknown   \n",
              "8             Under 18                 3            Driver   \n",
              "9                18-30                 3            Driver   \n",
              "\n",
              "               Pedestrian_movement           Cause_of_accident  \\\n",
              "1                 Not a Pedestrian                  Overtaking   \n",
              "3                 Not a Pedestrian  Changing lane to the right   \n",
              "7                 Not a Pedestrian      No priority to vehicle   \n",
              "8  Crossing from driver's nearside  Changing lane to the right   \n",
              "9                 Not a Pedestrian             Moving Backward   \n",
              "\n",
              "   Accident_severity  \n",
              "1      Slight Injury  \n",
              "3      Slight Injury  \n",
              "7      Slight Injury  \n",
              "8      Slight Injury  \n",
              "9     Serious Injury  \n",
              "\n",
              "[5 rows x 30 columns]"
            ],
            "text/html": [
              "\n",
              "  <div id=\"df-ca9a7271-26d7-433b-bdc8-12f0abffb432\" class=\"colab-df-container\">\n",
              "    <div>\n",
              "<style scoped>\n",
              "    .dataframe tbody tr th:only-of-type {\n",
              "        vertical-align: middle;\n",
              "    }\n",
              "\n",
              "    .dataframe tbody tr th {\n",
              "        vertical-align: top;\n",
              "    }\n",
              "\n",
              "    .dataframe thead th {\n",
              "        text-align: right;\n",
              "    }\n",
              "</style>\n",
              "<table border=\"1\" class=\"dataframe\">\n",
              "  <thead>\n",
              "    <tr style=\"text-align: right;\">\n",
              "      <th></th>\n",
              "      <th>Time</th>\n",
              "      <th>Day_of_week</th>\n",
              "      <th>Age_band_of_driver</th>\n",
              "      <th>Sex_of_driver</th>\n",
              "      <th>Educational_level</th>\n",
              "      <th>Vehicle_driver_relation</th>\n",
              "      <th>Driving_experience</th>\n",
              "      <th>Type_of_vehicle</th>\n",
              "      <th>Owner_of_vehicle</th>\n",
              "      <th>Service_year_of_vehicle</th>\n",
              "      <th>...</th>\n",
              "      <th>Number_of_casualties</th>\n",
              "      <th>Vehicle_movement</th>\n",
              "      <th>Casualty_class</th>\n",
              "      <th>Sex_of_casualty</th>\n",
              "      <th>Age_band_of_casualty</th>\n",
              "      <th>Casualty_severity</th>\n",
              "      <th>Work_of_casuality</th>\n",
              "      <th>Pedestrian_movement</th>\n",
              "      <th>Cause_of_accident</th>\n",
              "      <th>Accident_severity</th>\n",
              "    </tr>\n",
              "  </thead>\n",
              "  <tbody>\n",
              "    <tr>\n",
              "      <th>1</th>\n",
              "      <td>0 days 17:02:00</td>\n",
              "      <td>1</td>\n",
              "      <td>31-50</td>\n",
              "      <td>Male</td>\n",
              "      <td>Junior high school</td>\n",
              "      <td>Employee</td>\n",
              "      <td>Above 10yr</td>\n",
              "      <td>Public (&gt; 45 seats)</td>\n",
              "      <td>Owner</td>\n",
              "      <td>5-10yrs</td>\n",
              "      <td>...</td>\n",
              "      <td>2</td>\n",
              "      <td>Going straight</td>\n",
              "      <td>3</td>\n",
              "      <td>na</td>\n",
              "      <td>na</td>\n",
              "      <td>na</td>\n",
              "      <td>Unknown</td>\n",
              "      <td>Not a Pedestrian</td>\n",
              "      <td>Overtaking</td>\n",
              "      <td>Slight Injury</td>\n",
              "    </tr>\n",
              "    <tr>\n",
              "      <th>3</th>\n",
              "      <td>0 days 01:06:00</td>\n",
              "      <td>3</td>\n",
              "      <td>18-30</td>\n",
              "      <td>Male</td>\n",
              "      <td>Junior high school</td>\n",
              "      <td>Employee</td>\n",
              "      <td>5-10yr</td>\n",
              "      <td>Public (&gt; 45 seats)</td>\n",
              "      <td>Governmental</td>\n",
              "      <td>Unknown</td>\n",
              "      <td>...</td>\n",
              "      <td>2</td>\n",
              "      <td>Going straight</td>\n",
              "      <td>2</td>\n",
              "      <td>Female</td>\n",
              "      <td>18-30</td>\n",
              "      <td>3</td>\n",
              "      <td>Driver</td>\n",
              "      <td>Not a Pedestrian</td>\n",
              "      <td>Changing lane to the right</td>\n",
              "      <td>Slight Injury</td>\n",
              "    </tr>\n",
              "    <tr>\n",
              "      <th>7</th>\n",
              "      <td>0 days 17:20:00</td>\n",
              "      <td>0</td>\n",
              "      <td>18-30</td>\n",
              "      <td>Male</td>\n",
              "      <td>Junior high school</td>\n",
              "      <td>Employee</td>\n",
              "      <td>2-5yr</td>\n",
              "      <td>Automobile</td>\n",
              "      <td>Governmental</td>\n",
              "      <td>Above 10yr</td>\n",
              "      <td>...</td>\n",
              "      <td>1</td>\n",
              "      <td>U-Turn</td>\n",
              "      <td>3</td>\n",
              "      <td>na</td>\n",
              "      <td>na</td>\n",
              "      <td>na</td>\n",
              "      <td>Unknown</td>\n",
              "      <td>Not a Pedestrian</td>\n",
              "      <td>No priority to vehicle</td>\n",
              "      <td>Slight Injury</td>\n",
              "    </tr>\n",
              "    <tr>\n",
              "      <th>8</th>\n",
              "      <td>0 days 17:20:00</td>\n",
              "      <td>0</td>\n",
              "      <td>18-30</td>\n",
              "      <td>Male</td>\n",
              "      <td>Junior high school</td>\n",
              "      <td>Employee</td>\n",
              "      <td>Above 10yr</td>\n",
              "      <td>Lorry (41?100Q)</td>\n",
              "      <td>Owner</td>\n",
              "      <td>1-2yr</td>\n",
              "      <td>...</td>\n",
              "      <td>1</td>\n",
              "      <td>Going straight</td>\n",
              "      <td>2</td>\n",
              "      <td>Male</td>\n",
              "      <td>Under 18</td>\n",
              "      <td>3</td>\n",
              "      <td>Driver</td>\n",
              "      <td>Crossing from driver's nearside</td>\n",
              "      <td>Changing lane to the right</td>\n",
              "      <td>Slight Injury</td>\n",
              "    </tr>\n",
              "    <tr>\n",
              "      <th>9</th>\n",
              "      <td>0 days 17:20:00</td>\n",
              "      <td>0</td>\n",
              "      <td>18-30</td>\n",
              "      <td>Male</td>\n",
              "      <td>Junior high school</td>\n",
              "      <td>Employee</td>\n",
              "      <td>1-2yr</td>\n",
              "      <td>Automobile</td>\n",
              "      <td>Owner</td>\n",
              "      <td>2-5yrs</td>\n",
              "      <td>...</td>\n",
              "      <td>1</td>\n",
              "      <td>U-Turn</td>\n",
              "      <td>1</td>\n",
              "      <td>Male</td>\n",
              "      <td>18-30</td>\n",
              "      <td>3</td>\n",
              "      <td>Driver</td>\n",
              "      <td>Not a Pedestrian</td>\n",
              "      <td>Moving Backward</td>\n",
              "      <td>Serious Injury</td>\n",
              "    </tr>\n",
              "  </tbody>\n",
              "</table>\n",
              "<p>5 rows × 30 columns</p>\n",
              "</div>\n",
              "    <div class=\"colab-df-buttons\">\n",
              "\n",
              "  <div class=\"colab-df-container\">\n",
              "    <button class=\"colab-df-convert\" onclick=\"convertToInteractive('df-ca9a7271-26d7-433b-bdc8-12f0abffb432')\"\n",
              "            title=\"Convert this dataframe to an interactive table.\"\n",
              "            style=\"display:none;\">\n",
              "\n",
              "  <svg xmlns=\"http://www.w3.org/2000/svg\" height=\"24px\" viewBox=\"0 -960 960 960\">\n",
              "    <path d=\"M120-120v-720h720v720H120Zm60-500h600v-160H180v160Zm220 220h160v-160H400v160Zm0 220h160v-160H400v160ZM180-400h160v-160H180v160Zm440 0h160v-160H620v160ZM180-180h160v-160H180v160Zm440 0h160v-160H620v160Z\"/>\n",
              "  </svg>\n",
              "    </button>\n",
              "\n",
              "  <style>\n",
              "    .colab-df-container {\n",
              "      display:flex;\n",
              "      gap: 12px;\n",
              "    }\n",
              "\n",
              "    .colab-df-convert {\n",
              "      background-color: #E8F0FE;\n",
              "      border: none;\n",
              "      border-radius: 50%;\n",
              "      cursor: pointer;\n",
              "      display: none;\n",
              "      fill: #1967D2;\n",
              "      height: 32px;\n",
              "      padding: 0 0 0 0;\n",
              "      width: 32px;\n",
              "    }\n",
              "\n",
              "    .colab-df-convert:hover {\n",
              "      background-color: #E2EBFA;\n",
              "      box-shadow: 0px 1px 2px rgba(60, 64, 67, 0.3), 0px 1px 3px 1px rgba(60, 64, 67, 0.15);\n",
              "      fill: #174EA6;\n",
              "    }\n",
              "\n",
              "    .colab-df-buttons div {\n",
              "      margin-bottom: 4px;\n",
              "    }\n",
              "\n",
              "    [theme=dark] .colab-df-convert {\n",
              "      background-color: #3B4455;\n",
              "      fill: #D2E3FC;\n",
              "    }\n",
              "\n",
              "    [theme=dark] .colab-df-convert:hover {\n",
              "      background-color: #434B5C;\n",
              "      box-shadow: 0px 1px 3px 1px rgba(0, 0, 0, 0.15);\n",
              "      filter: drop-shadow(0px 1px 2px rgba(0, 0, 0, 0.3));\n",
              "      fill: #FFFFFF;\n",
              "    }\n",
              "  </style>\n",
              "\n",
              "    <script>\n",
              "      const buttonEl =\n",
              "        document.querySelector('#df-ca9a7271-26d7-433b-bdc8-12f0abffb432 button.colab-df-convert');\n",
              "      buttonEl.style.display =\n",
              "        google.colab.kernel.accessAllowed ? 'block' : 'none';\n",
              "\n",
              "      async function convertToInteractive(key) {\n",
              "        const element = document.querySelector('#df-ca9a7271-26d7-433b-bdc8-12f0abffb432');\n",
              "        const dataTable =\n",
              "          await google.colab.kernel.invokeFunction('convertToInteractive',\n",
              "                                                    [key], {});\n",
              "        if (!dataTable) return;\n",
              "\n",
              "        const docLinkHtml = 'Like what you see? Visit the ' +\n",
              "          '<a target=\"_blank\" href=https://colab.research.google.com/notebooks/data_table.ipynb>data table notebook</a>'\n",
              "          + ' to learn more about interactive tables.';\n",
              "        element.innerHTML = '';\n",
              "        dataTable['output_type'] = 'display_data';\n",
              "        await google.colab.output.renderOutput(dataTable, element);\n",
              "        const docLink = document.createElement('div');\n",
              "        docLink.innerHTML = docLinkHtml;\n",
              "        element.appendChild(docLink);\n",
              "      }\n",
              "    </script>\n",
              "  </div>\n",
              "\n",
              "\n",
              "<div id=\"df-2b92e627-07c3-4437-a5ef-c2e0965ec973\">\n",
              "  <button class=\"colab-df-quickchart\" onclick=\"quickchart('df-2b92e627-07c3-4437-a5ef-c2e0965ec973')\"\n",
              "            title=\"Suggest charts\"\n",
              "            style=\"display:none;\">\n",
              "\n",
              "<svg xmlns=\"http://www.w3.org/2000/svg\" height=\"24px\"viewBox=\"0 0 24 24\"\n",
              "     width=\"24px\">\n",
              "    <g>\n",
              "        <path d=\"M19 3H5c-1.1 0-2 .9-2 2v14c0 1.1.9 2 2 2h14c1.1 0 2-.9 2-2V5c0-1.1-.9-2-2-2zM9 17H7v-7h2v7zm4 0h-2V7h2v10zm4 0h-2v-4h2v4z\"/>\n",
              "    </g>\n",
              "</svg>\n",
              "  </button>\n",
              "\n",
              "<style>\n",
              "  .colab-df-quickchart {\n",
              "      --bg-color: #E8F0FE;\n",
              "      --fill-color: #1967D2;\n",
              "      --hover-bg-color: #E2EBFA;\n",
              "      --hover-fill-color: #174EA6;\n",
              "      --disabled-fill-color: #AAA;\n",
              "      --disabled-bg-color: #DDD;\n",
              "  }\n",
              "\n",
              "  [theme=dark] .colab-df-quickchart {\n",
              "      --bg-color: #3B4455;\n",
              "      --fill-color: #D2E3FC;\n",
              "      --hover-bg-color: #434B5C;\n",
              "      --hover-fill-color: #FFFFFF;\n",
              "      --disabled-bg-color: #3B4455;\n",
              "      --disabled-fill-color: #666;\n",
              "  }\n",
              "\n",
              "  .colab-df-quickchart {\n",
              "    background-color: var(--bg-color);\n",
              "    border: none;\n",
              "    border-radius: 50%;\n",
              "    cursor: pointer;\n",
              "    display: none;\n",
              "    fill: var(--fill-color);\n",
              "    height: 32px;\n",
              "    padding: 0;\n",
              "    width: 32px;\n",
              "  }\n",
              "\n",
              "  .colab-df-quickchart:hover {\n",
              "    background-color: var(--hover-bg-color);\n",
              "    box-shadow: 0 1px 2px rgba(60, 64, 67, 0.3), 0 1px 3px 1px rgba(60, 64, 67, 0.15);\n",
              "    fill: var(--button-hover-fill-color);\n",
              "  }\n",
              "\n",
              "  .colab-df-quickchart-complete:disabled,\n",
              "  .colab-df-quickchart-complete:disabled:hover {\n",
              "    background-color: var(--disabled-bg-color);\n",
              "    fill: var(--disabled-fill-color);\n",
              "    box-shadow: none;\n",
              "  }\n",
              "\n",
              "  .colab-df-spinner {\n",
              "    border: 2px solid var(--fill-color);\n",
              "    border-color: transparent;\n",
              "    border-bottom-color: var(--fill-color);\n",
              "    animation:\n",
              "      spin 1s steps(1) infinite;\n",
              "  }\n",
              "\n",
              "  @keyframes spin {\n",
              "    0% {\n",
              "      border-color: transparent;\n",
              "      border-bottom-color: var(--fill-color);\n",
              "      border-left-color: var(--fill-color);\n",
              "    }\n",
              "    20% {\n",
              "      border-color: transparent;\n",
              "      border-left-color: var(--fill-color);\n",
              "      border-top-color: var(--fill-color);\n",
              "    }\n",
              "    30% {\n",
              "      border-color: transparent;\n",
              "      border-left-color: var(--fill-color);\n",
              "      border-top-color: var(--fill-color);\n",
              "      border-right-color: var(--fill-color);\n",
              "    }\n",
              "    40% {\n",
              "      border-color: transparent;\n",
              "      border-right-color: var(--fill-color);\n",
              "      border-top-color: var(--fill-color);\n",
              "    }\n",
              "    60% {\n",
              "      border-color: transparent;\n",
              "      border-right-color: var(--fill-color);\n",
              "    }\n",
              "    80% {\n",
              "      border-color: transparent;\n",
              "      border-right-color: var(--fill-color);\n",
              "      border-bottom-color: var(--fill-color);\n",
              "    }\n",
              "    90% {\n",
              "      border-color: transparent;\n",
              "      border-bottom-color: var(--fill-color);\n",
              "    }\n",
              "  }\n",
              "</style>\n",
              "\n",
              "  <script>\n",
              "    async function quickchart(key) {\n",
              "      const quickchartButtonEl =\n",
              "        document.querySelector('#' + key + ' button');\n",
              "      quickchartButtonEl.disabled = true;  // To prevent multiple clicks.\n",
              "      quickchartButtonEl.classList.add('colab-df-spinner');\n",
              "      try {\n",
              "        const charts = await google.colab.kernel.invokeFunction(\n",
              "            'suggestCharts', [key], {});\n",
              "      } catch (error) {\n",
              "        console.error('Error during call to suggestCharts:', error);\n",
              "      }\n",
              "      quickchartButtonEl.classList.remove('colab-df-spinner');\n",
              "      quickchartButtonEl.classList.add('colab-df-quickchart-complete');\n",
              "    }\n",
              "    (() => {\n",
              "      let quickchartButtonEl =\n",
              "        document.querySelector('#df-2b92e627-07c3-4437-a5ef-c2e0965ec973 button');\n",
              "      quickchartButtonEl.style.display =\n",
              "        google.colab.kernel.accessAllowed ? 'block' : 'none';\n",
              "    })();\n",
              "  </script>\n",
              "</div>\n",
              "\n",
              "    </div>\n",
              "  </div>\n"
            ],
            "application/vnd.google.colaboratory.intrinsic+json": {
              "type": "dataframe",
              "variable_name": "df"
            }
          },
          "metadata": {},
          "execution_count": 152
        }
      ]
    },
    {
      "cell_type": "code",
      "source": [
        "df.columns"
      ],
      "metadata": {
        "id": "J-HyLedLltpm",
        "outputId": "b477891c-c88d-4f12-d16f-3ff5e6ea0179",
        "colab": {
          "base_uri": "https://localhost:8080/"
        }
      },
      "id": "J-HyLedLltpm",
      "execution_count": 153,
      "outputs": [
        {
          "output_type": "execute_result",
          "data": {
            "text/plain": [
              "Index(['Time', 'Day_of_week', 'Age_band_of_driver', 'Sex_of_driver',\n",
              "       'Educational_level', 'Vehicle_driver_relation', 'Driving_experience',\n",
              "       'Type_of_vehicle', 'Owner_of_vehicle', 'Service_year_of_vehicle',\n",
              "       'Area_accident_occured', 'Lanes_or_Medians', 'Road_allignment',\n",
              "       'Types_of_Junction', 'Road_surface_type', 'Road_surface_conditions',\n",
              "       'Light_conditions', 'Weather_conditions', 'Type_of_collision',\n",
              "       'Number_of_vehicles_involved', 'Number_of_casualties',\n",
              "       'Vehicle_movement', 'Casualty_class', 'Sex_of_casualty',\n",
              "       'Age_band_of_casualty', 'Casualty_severity', 'Work_of_casuality',\n",
              "       'Pedestrian_movement', 'Cause_of_accident', 'Accident_severity'],\n",
              "      dtype='object')"
            ]
          },
          "metadata": {},
          "execution_count": 153
        }
      ]
    },
    {
      "cell_type": "markdown",
      "id": "292ab9c9",
      "metadata": {
        "id": "292ab9c9"
      },
      "source": [
        "## Data Visualization\n",
        "Create various plots to visualize the relationships in the data. Consider using the following to show different aspects of the data:\n",
        "\n",
        "* Heatmap of Correlation Matrix.\n",
        "* Line plots.\n",
        "* Scatter plots.\n",
        "* Histograms.\n",
        "* Boxplots.\n",
        "\n",
        "Use more if needed!"
      ]
    },
    {
      "cell_type": "code",
      "execution_count": 154,
      "id": "14c4a6fd",
      "metadata": {
        "id": "14c4a6fd",
        "outputId": "eec35672-fdae-45e1-a0e6-db18362bddd5",
        "colab": {
          "base_uri": "https://localhost:8080/",
          "height": 873
        }
      },
      "outputs": [
        {
          "output_type": "display_data",
          "data": {
            "text/plain": [
              "<Figure size 1000x800 with 2 Axes>"
            ],
            "image/png": "[encoded data removed]"
          },
          "metadata": {}
        }
      ],
      "source": [
        "# Correlation heatmap\n",
        "numeric_df = df.select_dtypes(include=[np.number])\n",
        "plt.figure(figsize=(10, 8))\n",
        "sns.heatmap(numeric_df.corr(), annot=True, cmap='coolwarm', fmt='.2f')\n",
        "plt.title('Correlation Heatmap')\n",
        "plt.show()"
      ]
    },
    {
      "cell_type": "code",
      "source": [
        "df.shape"
      ],
      "metadata": {
        "id": "a1v8Mta8znsU",
        "outputId": "e51a4ff4-1701-47ff-95a2-9bbf40654d2c",
        "colab": {
          "base_uri": "https://localhost:8080/"
        }
      },
      "id": "a1v8Mta8znsU",
      "execution_count": 155,
      "outputs": [
        {
          "output_type": "execute_result",
          "data": {
            "text/plain": [
              "(8439, 30)"
            ]
          },
          "metadata": {},
          "execution_count": 155
        }
      ]
    },
    {
      "cell_type": "code",
      "source": [
        "\n",
        "day_counts = df['Day_of_week'].value_counts().sort_index()\n",
        "\n",
        "\n",
        "plt.figure(figsize=(10, 6))\n",
        "day_counts.plot(kind='bar')\n",
        "plt.xlabel('Day of the Week')\n",
        "plt.ylabel('Number of Accidents')\n",
        "plt.title('Number of Accidents by Day of the Week')\n",
        "plt.xticks(rotation=45)\n",
        "plt.tight_layout()\n",
        "plt.show()\n"
      ],
      "metadata": {
        "id": "uDkhUmWF8zhG",
        "outputId": "82a810d6-ccae-4134-a755-73d949254982",
        "colab": {
          "base_uri": "https://localhost:8080/",
          "height": 576
        }
      },
      "id": "uDkhUmWF8zhG",
      "execution_count": 156,
      "outputs": [
        {
          "output_type": "display_data",
          "data": {
            "text/plain": [
              "<Figure size 1000x600 with 1 Axes>"
            ],
            "image/png": "[encoded data removed]"
          },
          "metadata": {}
        }
      ]
    },
    {
      "cell_type": "code",
      "source": [
        "\n",
        "# Pie chart for Age_band_of_driver\n",
        "plt.figure(figsize=(8, 6))\n",
        "df['Age_band_of_driver'].value_counts().plot(kind='pie', autopct='%1.1f%%')\n",
        "plt.title('Distribution of Age Band of Drivers')\n",
        "plt.ylabel('')\n",
        "plt.show()\n"
      ],
      "metadata": {
        "id": "d4EoL8Qq8hT5",
        "outputId": "473dcfba-d475-4b35-b01f-e6ca1aa114d3",
        "colab": {
          "base_uri": "https://localhost:8080/",
          "height": 521
        }
      },
      "id": "d4EoL8Qq8hT5",
      "execution_count": 157,
      "outputs": [
        {
          "output_type": "display_data",
          "data": {
            "text/plain": [
              "<Figure size 800x600 with 1 Axes>"
            ],
            "image/png": "[encoded data removed]"
          },
          "metadata": {}
        }
      ]
    },
    {
      "cell_type": "code",
      "source": [
        "\n",
        "# box plot for 'Age_band_of_driver' vs 'Accident_severity'\n",
        "plt.figure(figsize=(10, 6))\n",
        "sns.boxplot(x='Age_band_of_driver', y='Accident_severity', data=df)\n",
        "plt.title('Accident Severity by Age Band of Driver')\n",
        "plt.xticks(rotation=45)\n",
        "plt.tight_layout()\n",
        "plt.show()\n"
      ],
      "metadata": {
        "id": "dbyFvUbGmJHG",
        "outputId": "d529df2e-3063-477e-a4e8-710bc7454970",
        "colab": {
          "base_uri": "https://localhost:8080/",
          "height": 576
        }
      },
      "id": "dbyFvUbGmJHG",
      "execution_count": 158,
      "outputs": [
        {
          "output_type": "display_data",
          "data": {
            "text/plain": [
              "<Figure size 1000x600 with 1 Axes>"
            ],
            "image/png": "[encoded data removed]"
          },
          "metadata": {}
        }
      ]
    },
    {
      "cell_type": "code",
      "source": [
        "\n",
        "\n",
        "plt.figure(figsize=(10, 6))\n",
        "sns.histplot(data=df, x='Age_band_of_driver', hue='Accident_severity', multiple='stack')\n",
        "plt.title('Age Distribution by Accident Severity')\n",
        "plt.xlabel('Age Band of Driver')\n",
        "plt.ylabel('Count')\n",
        "plt.xticks(rotation=45)\n",
        "plt.show()\n"
      ],
      "metadata": {
        "id": "XIiKiTkTmCJs",
        "outputId": "57cc206e-f9a6-4730-b2ae-8e7d266a55b3",
        "colab": {
          "base_uri": "https://localhost:8080/",
          "height": 606
        }
      },
      "id": "XIiKiTkTmCJs",
      "execution_count": 159,
      "outputs": [
        {
          "output_type": "display_data",
          "data": {
            "text/plain": [
              "<Figure size 1000x600 with 1 Axes>"
            ],
            "image/png": "[encoded data removed]"
          },
          "metadata": {}
        }
      ]
    },
    {
      "cell_type": "code",
      "source": [
        "df.columns"
      ],
      "metadata": {
        "id": "SzlLgbhMm_fe",
        "outputId": "40a0909e-12aa-4c8e-b8c9-cbf57708f7bf",
        "colab": {
          "base_uri": "https://localhost:8080/"
        }
      },
      "id": "SzlLgbhMm_fe",
      "execution_count": 160,
      "outputs": [
        {
          "output_type": "execute_result",
          "data": {
            "text/plain": [
              "Index(['Time', 'Day_of_week', 'Age_band_of_driver', 'Sex_of_driver',\n",
              "       'Educational_level', 'Vehicle_driver_relation', 'Driving_experience',\n",
              "       'Type_of_vehicle', 'Owner_of_vehicle', 'Service_year_of_vehicle',\n",
              "       'Area_accident_occured', 'Lanes_or_Medians', 'Road_allignment',\n",
              "       'Types_of_Junction', 'Road_surface_type', 'Road_surface_conditions',\n",
              "       'Light_conditions', 'Weather_conditions', 'Type_of_collision',\n",
              "       'Number_of_vehicles_involved', 'Number_of_casualties',\n",
              "       'Vehicle_movement', 'Casualty_class', 'Sex_of_casualty',\n",
              "       'Age_band_of_casualty', 'Casualty_severity', 'Work_of_casuality',\n",
              "       'Pedestrian_movement', 'Cause_of_accident', 'Accident_severity'],\n",
              "      dtype='object')"
            ]
          },
          "metadata": {},
          "execution_count": 160
        }
      ]
    },
    {
      "cell_type": "code",
      "source": [
        "\n",
        "# Lineplot for Day of the Week vs Accident Severity\n",
        "plt.figure(figsize=(10, 6))\n",
        "sns.lineplot(x='Day_of_week', y='Accident_severity', data=df)\n",
        "plt.title('Day of the Week vs Accident Severity')\n",
        "plt.xticks(rotation=45)\n",
        "plt.show()\n"
      ],
      "metadata": {
        "id": "aI6qQzMdmjbL",
        "outputId": "44242f96-02ad-484b-abc7-d57dc9face94",
        "colab": {
          "base_uri": "https://localhost:8080/",
          "height": 566
        }
      },
      "id": "aI6qQzMdmjbL",
      "execution_count": 161,
      "outputs": [
        {
          "output_type": "display_data",
          "data": {
            "text/plain": [
              "<Figure size 1000x600 with 1 Axes>"
            ],
            "image/png": "[encoded data removed]"
          },
          "metadata": {}
        }
      ]
    },
    {
      "cell_type": "code",
      "execution_count": 162,
      "id": "5cfa25ae",
      "metadata": {
        "id": "5cfa25ae",
        "outputId": "95052209-05dd-498c-b9f9-3fdd304e71e5",
        "colab": {
          "base_uri": "https://localhost:8080/",
          "height": 561
        }
      },
      "outputs": [
        {
          "output_type": "display_data",
          "data": {
            "text/plain": [
              "<Figure size 800x600 with 1 Axes>"
            ],
            "image/png": "[encoded data removed]"
          },
          "metadata": {}
        }
      ],
      "source": [
        "# Sample scatter plot\n",
        "plt.figure(figsize=(8, 6))\n",
        "sns.scatterplot(x='Sex_of_driver', y='Type_of_collision', data=df)\n",
        "plt.title('Scatter Plot of Age Band of Driver vs. Driving Experience')\n",
        "plt.xlabel('Age Band of Driver')\n",
        "plt.ylabel('Driving Experience')\n",
        "plt.show()\n"
      ]
    },
    {
      "cell_type": "code",
      "source": [],
      "metadata": {
        "id": "kQIXYkIo0EZE"
      },
      "id": "kQIXYkIo0EZE",
      "execution_count": 162,
      "outputs": []
    },
    {
      "cell_type": "markdown",
      "id": "40ce1d71",
      "metadata": {
        "id": "40ce1d71"
      },
      "source": [
        "## Feature Selection\n",
        "- Choose features that you believe will most influence the outcome based on your analysis and the insights from your visualizations. Focus on those that appear most impactful to include in your modeling.\n",
        "\n",
        "## Train-Test Split\n",
        "* Divide the dataset into training and testing sets to evaluate the performance of your models."
      ]
    },
    {
      "cell_type": "code",
      "source": [
        "\n",
        "\n",
        "# Label encode 'Age_band_of_driver' column\n",
        "df['Age_band_of_driver'] = le.fit_transform(df['Age_band_of_driver'])\n",
        "df['Sex_of_driver'] = le.fit_transform(df['Sex_of_driver'])\n",
        "df['Educational_level'] = le.fit_transform(df['Educational_level'])\n",
        "df['Cause_of_accident'] = le.fit_transform(df['Cause_of_accident'])\n",
        "#df['Sex_of_driver'] = le.fit_transform(df['Sex_of_driver'])\n",
        "\n"
      ],
      "metadata": {
        "id": "5TEj4vQWshCH"
      },
      "id": "5TEj4vQWshCH",
      "execution_count": 163,
      "outputs": []
    },
    {
      "cell_type": "code",
      "execution_count": 164,
      "id": "f6570748",
      "metadata": {
        "id": "f6570748"
      },
      "outputs": [],
      "source": [
        "#\n",
        "# Age_band_of_driver\n",
        "# Sex_of_driver\n",
        "# Educational_level\n",
        "# Type_of_vehicle\n",
        "# Cause_of_accident\n",
        "\n",
        "# Features and target value\n",
        "features = ['Day_of_week', 'Age_band_of_driver', 'Sex_of_driver',\n",
        "            'Educational_level', 'Cause_of_accident']\n",
        "target = 'Accident_severity'\n",
        "\n",
        "X = df[features]\n",
        "y = df[target]\n",
        "\n",
        "# Perform train-test split\n",
        "X_train, X_test, y_train, y_test = train_test_split(X, y, test_size=0.2, random_state=42)\n"
      ]
    },
    {
      "cell_type": "code",
      "source": [],
      "metadata": {
        "id": "FqDhQy_Vryqc"
      },
      "id": "FqDhQy_Vryqc",
      "execution_count": 164,
      "outputs": []
    },
    {
      "cell_type": "code",
      "source": [],
      "metadata": {
        "id": "cB2YMYUqrWw0"
      },
      "id": "cB2YMYUqrWw0",
      "execution_count": 164,
      "outputs": []
    },
    {
      "cell_type": "code",
      "source": [
        "scaler = StandardScaler()\n",
        "X_train = scaler.fit_transform(X_train)\n",
        "X_test = scaler.transform(X_test)"
      ],
      "metadata": {
        "id": "SRRjM3u0t036"
      },
      "id": "SRRjM3u0t036",
      "execution_count": 165,
      "outputs": []
    },
    {
      "cell_type": "markdown",
      "id": "e74a5058",
      "metadata": {
        "id": "e74a5058"
      },
      "source": [
        "## Modeling\n",
        "\n",
        "Once the data is split into training and testing sets, the next step is to build models to make predictions. Here, we will explore several machine learning algorithms, each with its unique characteristics and suitability for different types of data and problems. You will implement the following models:\n",
        "\n",
        "### 1. Logistic Regression\n",
        "\n",
        "### 2. Decision Tree Classifier\n",
        "\n",
        "### 3. Support Vector Machine (SVM)\n",
        "\n",
        "### 4. K-Neighbors Classifier\n",
        "\n",
        "### Implementing the Models\n",
        "- For each model, use the training data you have prepared to train the model."
      ]
    },
    {
      "cell_type": "code",
      "source": [],
      "metadata": {
        "id": "MInTy1MXtHeG"
      },
      "id": "MInTy1MXtHeG",
      "execution_count": 165,
      "outputs": []
    },
    {
      "cell_type": "markdown",
      "id": "1a6c9815",
      "metadata": {
        "id": "1a6c9815"
      },
      "source": [
        "#### Logistic Regression"
      ]
    },
    {
      "cell_type": "code",
      "execution_count": 166,
      "id": "d35137d1",
      "metadata": {
        "id": "d35137d1"
      },
      "outputs": [],
      "source": [
        "\n",
        "\n",
        "\n",
        "log_reg = LogisticRegression()\n",
        "\n",
        "\n",
        "log_reg.fit(X_train, y_train)\n",
        "\n",
        "\n",
        "y_pred = log_reg.predict(X_test)\n",
        "\n"
      ]
    },
    {
      "cell_type": "markdown",
      "id": "0cfd5ecb",
      "metadata": {
        "id": "0cfd5ecb"
      },
      "source": [
        "#### Decision Tree Classifier"
      ]
    },
    {
      "cell_type": "code",
      "execution_count": 167,
      "id": "0ba4edd5",
      "metadata": {
        "id": "0ba4edd5"
      },
      "outputs": [],
      "source": [
        "\n",
        "\n",
        "dt_clf = DecisionTreeClassifier()\n",
        "\n",
        "\n",
        "dt_clf.fit(X_train, y_train)\n",
        "\n",
        "\n",
        "y_pred_dt = dt_clf.predict(X_test)\n",
        "\n",
        "\n"
      ]
    },
    {
      "cell_type": "code",
      "source": [
        "\n",
        "\n",
        "accuracy_log_reg = accuracy_score(y_test, y_pred)\n",
        "print(\"Logistic Regression Accuracy:\", accuracy_log_reg)\n",
        "\n",
        "\n",
        "accuracy_dt = accuracy_score(y_test, y_pred_dt)\n",
        "print(\"Decision Tree Accuracy:\", accuracy_dt)\n"
      ],
      "metadata": {
        "id": "OxaZtN_0uB31",
        "outputId": "a19d6a1f-e569-4d85-a488-8f9483efb7a7",
        "colab": {
          "base_uri": "https://localhost:8080/"
        }
      },
      "id": "OxaZtN_0uB31",
      "execution_count": 168,
      "outputs": [
        {
          "output_type": "stream",
          "name": "stdout",
          "text": [
            "Logistic Regression Accuracy: 0.8595971563981043\n",
            "Decision Tree Accuracy: 0.8033175355450237\n"
          ]
        }
      ]
    },
    {
      "cell_type": "markdown",
      "id": "7ce21487",
      "metadata": {
        "id": "7ce21487"
      },
      "source": [
        "#### Support Vector Machine (SVM)"
      ]
    },
    {
      "cell_type": "code",
      "execution_count": 80,
      "id": "6f448f26",
      "metadata": {
        "id": "6f448f26",
        "outputId": "bb22cf7b-66e2-4bc0-d0de-a774cd80cc14",
        "colab": {
          "base_uri": "https://localhost:8080/"
        }
      },
      "outputs": [
        {
          "output_type": "stream",
          "name": "stdout",
          "text": [
            "SVM Accuracy: 0.8595971563981043\n"
          ]
        }
      ],
      "source": [
        "\n",
        "\n",
        "svm_clf = SVC()\n",
        "\n",
        "\n",
        "svm_clf.fit(X_train, y_train)\n",
        "\n",
        "\n",
        "y_pred_svm = svm_clf.predict(X_test)\n",
        "\n",
        "\n",
        "accuracy_svm = accuracy_score(y_test, y_pred_svm)\n",
        "print(\"SVM Accuracy:\", accuracy_svm)\n"
      ]
    },
    {
      "cell_type": "code",
      "source": [],
      "metadata": {
        "id": "p2Qew-BM5Z6m"
      },
      "id": "p2Qew-BM5Z6m",
      "execution_count": 80,
      "outputs": []
    },
    {
      "cell_type": "markdown",
      "id": "f3656932",
      "metadata": {
        "id": "f3656932"
      },
      "source": [
        "#### K-Neighbors Classifier"
      ]
    },
    {
      "cell_type": "code",
      "execution_count": 81,
      "id": "c8c73d33",
      "metadata": {
        "id": "c8c73d33",
        "outputId": "2fd174c0-f3c1-4678-93d0-218d7b408f0e",
        "colab": {
          "base_uri": "https://localhost:8080/"
        }
      },
      "outputs": [
        {
          "output_type": "stream",
          "name": "stdout",
          "text": [
            "K-Nearest Neighbors Accuracy: 0.8240521327014217\n"
          ]
        }
      ],
      "source": [
        "\n",
        "\n",
        "knn_clf = KNeighborsClassifier()\n",
        "\n",
        "\n",
        "knn_clf.fit(X_train, y_train)\n",
        "\n",
        "\n",
        "y_pred_knn = knn_clf.predict(X_test)\n",
        "\n",
        "\n",
        "accuracy_knn = accuracy_score(y_test, y_pred_knn)\n",
        "print(\"K-Nearest Neighbors Accuracy:\", accuracy_knn)\n"
      ]
    },
    {
      "cell_type": "markdown",
      "id": "12057ba0",
      "metadata": {
        "id": "12057ba0"
      },
      "source": [
        "## Model Evaluation\n",
        "\n",
        "After training your models, it's crucial to evaluate their performance to understand their effectiveness and limitations. This section outlines various techniques and metrics to assess the performance of each model you have implemented.\n",
        "\n",
        "### Evaluation Techniques\n",
        "1. **Confusion Matrix**\n",
        "\n",
        "2. **Accuracy**\n",
        "\n",
        "3. **Precision and Recall**\n",
        "\n",
        "4. **F1 Score**\n",
        "\n",
        "5. **ROC Curve and AUC**\n",
        "\n",
        "### Implementing Evaluation\n",
        "- Calculate the metrics listed above using your test data."
      ]
    },
    {
      "cell_type": "code",
      "execution_count": 82,
      "id": "c8328067",
      "metadata": {
        "id": "c8328067",
        "outputId": "c109d512-0034-43bc-d8ae-e46fd0c0bf7d",
        "colab": {
          "base_uri": "https://localhost:8080/"
        }
      },
      "outputs": [
        {
          "output_type": "stream",
          "name": "stdout",
          "text": [
            "---------------------------------------------\n",
            "Logistic Regression Confusion Matrix:\n",
            " [[   0    0   22]\n",
            " [   0    0  215]\n",
            " [   0    0 1451]]\n",
            "---------------------------------------------\n",
            "Logistic Regression Accuracy: 0.8595971563981043\n",
            "Logistic Regression Precision: 0.7389072712877071\n",
            "Logistic Regression Recall: 0.8595971563981043\n",
            "Logistic Regression F1-score: 0.794696064946575\n",
            "---------------------------------------------\n",
            "---------------------------------------------\n",
            "\n",
            "Decision Tree Confusion Matrix:\n",
            " [[   0    3   19]\n",
            " [   1   12  202]\n",
            " [   9   97 1345]]\n",
            "---------------------------------------------\n",
            "Decision Tree Accuracy: 0.8039099526066351\n",
            "Decision Tree Precision: 0.7519342184677614\n",
            "Decision Tree Recall: 0.8039099526066351\n",
            "Decision Tree F1-score: 0.7757772516604208\n",
            "---------------------------------------------\n",
            "---------------------------------------------\n",
            "\n",
            "SVM Confusion Matrix:\n"
          ]
        },
        {
          "output_type": "stream",
          "name": "stderr",
          "text": [
            "/usr/local/lib/python3.10/dist-packages/sklearn/metrics/_classification.py:1471: UndefinedMetricWarning: Precision is ill-defined and being set to 0.0 in labels with no predicted samples. Use `zero_division` parameter to control this behavior.\n",
            "  _warn_prf(average, modifier, msg_start, len(result))\n",
            "/usr/local/lib/python3.10/dist-packages/sklearn/metrics/_classification.py:1471: UndefinedMetricWarning: Precision is ill-defined and being set to 0.0 in labels with no predicted samples. Use `zero_division` parameter to control this behavior.\n",
            "  _warn_prf(average, modifier, msg_start, len(result))\n"
          ]
        },
        {
          "output_type": "stream",
          "name": "stdout",
          "text": [
            " [[   0    0   22]\n",
            " [   0    0  215]\n",
            " [   0    0 1451]]\n",
            "---------------------------------------------\n",
            "SVM Accuracy: 0.8595971563981043\n",
            "SVM Precision: 0.7389072712877071\n",
            "SVM Recall: 0.8595971563981043\n",
            "SVM F1-score: 0.794696064946575\n",
            "---------------------------------------------\n",
            "\n",
            "K-Nearest Neighbors Confusion Matrix:\n",
            " [[   0    1   21]\n",
            " [   0   12  203]\n",
            " [   1   71 1379]]\n",
            "---------------------------------------------\n",
            "K-Nearest Neighbors Accuracy: 0.8240521327014217\n",
            "K-Nearest Neighbors Precision: 0.7576744433570941\n",
            "K-Nearest Neighbors Recall: 0.8240521327014217\n",
            "K-Nearest Neighbors F1-score: 0.7865068734356139\n"
          ]
        }
      ],
      "source": [
        "# --- Logistic Regression ---\n",
        "# Confusion Matrix\n",
        "conf_matrix_log_reg = confusion_matrix(y_test, y_pred)\n",
        "print(\"---------------------------------------------\")\n",
        "print(\"Logistic Regression Confusion Matrix:\\n\", conf_matrix_log_reg)\n",
        "print(\"---------------------------------------------\")\n",
        "# Caluclated before\n",
        "print(\"Logistic Regression Accuracy:\", accuracy_log_reg)\n",
        "\n",
        "# Precision, Recall, and F1-score\n",
        "precision_log_reg = precision_score(y_test, y_pred, average='weighted')\n",
        "recall_log_reg = recall_score(y_test, y_pred, average='weighted')\n",
        "f1_log_reg = f1_score(y_test, y_pred, average='weighted')\n",
        "print(\"Logistic Regression Precision:\", precision_log_reg)\n",
        "print(\"Logistic Regression Recall:\", recall_log_reg)\n",
        "print(\"Logistic Regression F1-score:\", f1_log_reg)\n",
        "print(\"---------------------------------------------\")\n",
        "\n",
        "\n",
        "# Confusion Matrix\n",
        "print(\"---------------------------------------------\")\n",
        "conf_matrix_dt = confusion_matrix(y_test, y_pred_dt)\n",
        "print(\"\\nDecision Tree Confusion Matrix:\\n\", conf_matrix_dt)\n",
        "print(\"---------------------------------------------\")\n",
        "# Accuracy (already calculated above)\n",
        "print(\"Decision Tree Accuracy:\", accuracy_dt)\n",
        "\n",
        "# Precision, Recall, and F1-score\n",
        "precision_dt = precision_score(y_test, y_pred_dt, average='weighted')\n",
        "recall_dt = recall_score(y_test, y_pred_dt, average='weighted')\n",
        "f1_dt = f1_score(y_test, y_pred_dt, average='weighted')\n",
        "print(\"Decision Tree Precision:\", precision_dt)\n",
        "print(\"Decision Tree Recall:\", recall_dt)\n",
        "print(\"Decision Tree F1-score:\", f1_dt)\n",
        "print(\"---------------------------------------------\")\n",
        "\n",
        "# Support Vector Machine (SVM)\n",
        "# Confusion Matrix\n",
        "print(\"---------------------------------------------\")\n",
        "conf_matrix_svm = confusion_matrix(y_test, y_pred_svm)\n",
        "print(\"\\nSVM Confusion Matrix:\\n\", conf_matrix_svm)\n",
        "print(\"---------------------------------------------\")\n",
        "# caluclated before\n",
        "print(\"SVM Accuracy:\", accuracy_svm)\n",
        "\n",
        "# Precision, Recall, and F1-score\n",
        "precision_svm = precision_score(y_test, y_pred_svm, average='weighted')\n",
        "recall_svm = recall_score(y_test, y_pred_svm, average='weighted')\n",
        "f1_svm = f1_score(y_test, y_pred_svm, average='weighted')\n",
        "print(\"SVM Precision:\", precision_svm)\n",
        "print(\"SVM Recall:\", recall_svm)\n",
        "print(\"SVM F1-score:\", f1_svm)\n",
        "\n",
        "# K-Neighbors Classifier\n",
        "# Confusion Matrix\n",
        "print(\"---------------------------------------------\")\n",
        "conf_matrix_knn = confusion_matrix(y_test, y_pred_knn)\n",
        "print(\"\\nK-Nearest Neighbors Confusion Matrix:\\n\", conf_matrix_knn)\n",
        "print(\"---------------------------------------------\")\n",
        "# Accuracy (already calculated above)\n",
        "print(\"K-Nearest Neighbors Accuracy:\", accuracy_knn)\n",
        "\n",
        "# Precision, Recall, and F1-score\n",
        "precision_knn = precision_score(y_test, y_pred_knn, average='weighted')\n",
        "recall_knn = recall_score(y_test, y_pred_knn, average='weighted')\n",
        "f1_knn = f1_score(y_test, y_pred_knn, average='weighted')\n",
        "print(\"K-Nearest Neighbors Precision:\", precision_knn)\n",
        "print(\"K-Nearest Neighbors Recall:\", recall_knn)\n",
        "print(\"K-Nearest Neighbors F1-score:\", f1_knn)\n",
        "\n",
        "\n"
      ]
    },
    {
      "cell_type": "code",
      "source": [
        "from sklearn.preprocessing import LabelEncoder\n",
        "from sklearn.metrics import roc_curve, auc\n",
        "\n",
        "\n",
        "\n",
        "label_encoder = LabelEncoder()\n",
        "y_test_encoded = label_encoder.fit_transform(y_test)\n",
        "\n",
        "\n",
        "models = [\n",
        "    (\"Logistic Regression\", log_reg),\n",
        "    (\"Decision Tree\", dt_clf),\n",
        "    (\"K-Nearest Neighbors\", knn_clf),\n",
        "]\n",
        "\n",
        "\n",
        "for model_name, model in models:\n",
        "    y_pred_proba = model.predict_proba(X_test)\n",
        "    for i in range(y_pred_proba.shape[1]):\n",
        "        fpr, tpr, _ = roc_curve(y_test_encoded, y_pred_proba[:, i], pos_label=i)\n",
        "        roc_auc = auc(fpr, tpr)\n",
        "        print(f\"{model_name} - ROC AUC for class {label_encoder.classes_[i]}: {roc_auc}\")\n",
        "    print(\"---------------------------------------------\")"
      ],
      "metadata": {
        "id": "Jtt6grje6Lip",
        "outputId": "992a99ac-409f-46f9-af76-ca84e63847cd",
        "colab": {
          "base_uri": "https://localhost:8080/"
        }
      },
      "id": "Jtt6grje6Lip",
      "execution_count": 83,
      "outputs": [
        {
          "output_type": "stream",
          "name": "stdout",
          "text": [
            "Logistic Regression - ROC AUC for class Fatal injury: 0.5302711993888465\n",
            "Logistic Regression - ROC AUC for class Serious Injury: 0.457225406147871\n",
            "Logistic Regression - ROC AUC for class Slight Injury: 0.4755093969821482\n",
            "---------------------------------------------\n",
            "Decision Tree - ROC AUC for class Fatal injury: 0.46298974135108584\n",
            "Decision Tree - ROC AUC for class Serious Injury: 0.5346737397180252\n",
            "Decision Tree - ROC AUC for class Slight Injury: 0.5324975936862981\n",
            "---------------------------------------------\n",
            "K-Nearest Neighbors - ROC AUC for class Fatal injury: 0.49984993997599036\n",
            "K-Nearest Neighbors - ROC AUC for class Serious Injury: 0.5438592336475159\n",
            "K-Nearest Neighbors - ROC AUC for class Slight Injury: 0.5472015516724971\n",
            "---------------------------------------------\n"
          ]
        }
      ]
    },
    {
      "cell_type": "markdown",
      "id": "65f17c12",
      "metadata": {
        "id": "65f17c12"
      },
      "source": [
        "## Project Questions:\n",
        "\n",
        "### Comparative Analysis\n",
        "\n",
        "- **Compare Metrics**: Examine the performance metrics (such as accuracy, precision, and recall) of each model. Document your observations on which model performs best for your dataset and the problem you're addressing.\n",
        "- **Evaluate Trade-offs**: Discuss the trade-offs you encountered when choosing between models. Consider factors like computational efficiency, ease of implementation, and model interpretability.\n",
        "- **Justify Your Choice**: After comparing and evaluating, explain why you believe one model is the best choice. Provide a clear rationale based on the performance metrics and trade-offs discussed.\n",
        "- **Feature Importance**: Identify and discuss the most important features for the best-performing model. How do these features impact the predictions? Use the visualizations you have created to justify your answer if necessary.\n",
        "- **Model Limitations**: Discuss any limitations you encountered with the models you used. Are there any aspects of the data or the problem that these models do not handle well?\n",
        "- **Future Improvements**: Suggest potential improvements or further steps you could take to enhance model performance. This could include trying different algorithms, feature engineering techniques, or tuning hyperparameters."
      ]
    },
    {
      "cell_type": "markdown",
      "source": [],
      "metadata": {
        "id": "STNbjy5QCUxc"
      },
      "id": "STNbjy5QCUxc"
    },
    {
      "cell_type": "markdown",
      "source": [],
      "metadata": {
        "id": "utyeFbsY3fKX"
      },
      "id": "utyeFbsY3fKX"
    },
    {
      "cell_type": "markdown",
      "id": "76425529",
      "metadata": {
        "id": "76425529"
      },
      "source": [
        "### Answer Here:"
      ]
    },
    {
      "cell_type": "markdown",
      "source": [
        "1- all models did between 0.7 to 0.8 it is very close and difficult to say definitively which model is \"best\" the simplest model (logistic regression) performs comparably to more complex models."
      ],
      "metadata": {
        "id": "PM5J0uDpyz22"
      },
      "id": "PM5J0uDpyz22"
    },
    {
      "cell_type": "markdown",
      "source": [
        "2. the complexity of the model vs its interpretability. Simpler models, like logistic regression, is simpler but may not capture complex relationships another trade-off is computational efficiency: more complex models take longer to train."
      ],
      "metadata": {
        "id": "14pfOOlYy_S6"
      },
      "id": "14pfOOlYy_S6"
    },
    {
      "cell_type": "markdown",
      "source": [
        "Feature Importance:It is the most important that could impact the target value. for example, Accident_severity and where he works may not give a good prediction or may not predict the value accurately"
      ],
      "metadata": {
        "id": "JMhBZpCs4DRB"
      },
      "id": "JMhBZpCs4DRB"
    },
    {
      "cell_type": "markdown",
      "source": [
        "3.Given all the models performed similarly, we may take the simplest model which is logistic regression"
      ],
      "metadata": {
        "id": "C5ZOvKLDzIeI"
      },
      "id": "C5ZOvKLDzIeI"
    },
    {
      "cell_type": "markdown",
      "source": [
        "4.i had to use label encoder in order to train the models with the features of X"
      ],
      "metadata": {
        "id": "tMWQ9P7ZzS1L"
      },
      "id": "tMWQ9P7ZzS1L"
    },
    {
      "cell_type": "markdown",
      "source": [
        "Feature work:\n",
        "\n",
        "Feature Engineering: Create new features or transform existing ones, such as combining features or creating interaction terms.\n",
        "Hyperparameter Tuning: Use techniques like GridSearchCV to find optimal hyperparameters for each model."
      ],
      "metadata": {
        "id": "Que7mp9vzeOC"
      },
      "id": "Que7mp9vzeOC"
    },
    {
      "cell_type": "code",
      "source": [
        "# Compare Metrics: Examine the performance metrics (such as accuracy, precision, and recall) of each model. Document your observations on which model performs best for your dataset and the problem you're addressing.\n",
        "\n",
        "# All models achieved accuracy scores between 0.7 and 0.8,\n",
        "# Notably, the simplest model (logistic regression) performs\n",
        "# comparably to more complex models like Decision Trees and KNN.\n",
        "\n",
        "\n",
        "\n"
      ],
      "metadata": {
        "id": "eDvRj_hM1wP3"
      },
      "id": "eDvRj_hM1wP3",
      "execution_count": 84,
      "outputs": []
    },
    {
      "cell_type": "code",
      "source": [
        "# Evaluate Trade-offs:\n",
        "\n",
        "# Model Complexity vs. Interpretability:\n",
        "# - Logistic Regression: Simplest, easy to interpret coefficients,\n",
        "#   but may not capture complex relationships.\n",
        "# - Decision Tree: More complex, can capture non-linear relationships,\n",
        "#   but can be harder to interpret with deep trees.\n",
        "\n",
        "# Computational Efficiency:\n",
        "# - Logistic Regression: Generally very efficient to train and predict.\n",
        "# - Decision Tree: Training can be fast, but prediction time can increase\n",
        "#   with tree depth.\n",
        "\n",
        "# Ease of Implementation:\n",
        "# - All three models are relatively easy to implement using libraries\n"
      ],
      "metadata": {
        "id": "lRQZ_PN8_807"
      },
      "id": "lRQZ_PN8_807",
      "execution_count": 85,
      "outputs": []
    },
    {
      "cell_type": "code",
      "source": [
        "\n",
        "#similar performance across models, Logistic Regression is\n",
        "# the preferred choice due to its simplicity, ease of\n",
        "# interpretation, and computational efficiency.\n",
        "# While other models might capture more complex relationships,\n",
        "# but it will be more complex\n"
      ],
      "metadata": {
        "id": "wNbPFm4B__i3"
      },
      "id": "wNbPFm4B__i3",
      "execution_count": 86,
      "outputs": []
    },
    {
      "cell_type": "code",
      "source": [
        "\n",
        "# Future Improvements:\n",
        "# Feature Engineering:\n",
        "#  Create new features or transform existing ones, such as combining features or creating interaction terms.\n",
        "\n",
        "# Hyperparameter Tuning:\n",
        "# Use techniques like GridSearchCV to find optimal hyperparameters for each model.\n"
      ],
      "metadata": {
        "id": "PmCBfIdsBgVx"
      },
      "id": "PmCBfIdsBgVx",
      "execution_count": 87,
      "outputs": []
    },
    {
      "cell_type": "code",
      "source": [
        "#Model Limitations:\n",
        "\n",
        "# - Limited Feature Set: The models were trained on a limited set of features.\n",
        "#   Including more relevant features could improve performance.\n",
        "\n",
        "# - Class Imbalance: If the dataset has a significant class imbalance\n",
        "#   (some accident severities are much more common than others), the models\n",
        "#   might be biased towards predicting the majority class.\n"
      ],
      "metadata": {
        "id": "KFslaTwsBxy4"
      },
      "id": "KFslaTwsBxy4",
      "execution_count": 88,
      "outputs": []
    },
    {
      "cell_type": "code",
      "source": [
        "# Feature Importance: It refers to identifying which features (variables) in your dataset have the most significant impact on predicting the target variable (Accident_severity in this case).\n",
        "\n",
        "# For example, features like 'Day_of_week', 'Age_band_of_driver', or 'Cause_of_accident' might be more important in predicting accident severity compared to less relevant features.\n",
        "\n",
        "# Understanding feature importance helps focus on the most influential factors and potentially improve model accuracy by prioritizing those features.\n"
      ],
      "metadata": {
        "id": "pGn5Y1J-Cl6h"
      },
      "id": "pGn5Y1J-Cl6h",
      "execution_count": 89,
      "outputs": []
    },
    {
      "cell_type": "code",
      "source": [
        "\n",
        "# For example, 'Day_of_week', 'Age_band_of_driver', or 'Cause_of_accident' will be more important in predicting accident severity\n",
        "\n",
        "# Feature importance is like figuring out which features are important to predict the target value\n",
        "\n",
        "# For example, if we're trying to guess how the accident was,\n",
        "# knowing the day of the week, the driver's age, or the cause of the accident , will be more useful\n"
      ],
      "metadata": {
        "id": "9reUyUYvC3YL"
      },
      "id": "9reUyUYvC3YL",
      "execution_count": 90,
      "outputs": []
    },
    {
      "cell_type": "markdown",
      "source": [],
      "metadata": {
        "id": "fS4Ttr6tC2mN"
      },
      "id": "fS4Ttr6tC2mN"
    }
  ],
  "metadata": {
    "language_info": {
      "name": "python"
    },
    "colab": {
      "provenance": []
    },
    "kernelspec": {
      "name": "python3",
      "display_name": "Python 3"
    }
  },
  "nbformat": 4,
  "nbformat_minor": 5
}